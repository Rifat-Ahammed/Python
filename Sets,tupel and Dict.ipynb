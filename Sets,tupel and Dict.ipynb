{
 "cells": [
  {
   "cell_type": "markdown",
   "id": "db4865c9",
   "metadata": {},
   "source": [
    "# Sets"
   ]
  },
  {
   "cell_type": "markdown",
   "id": "b5ce7446",
   "metadata": {},
   "source": [
    "A set is unordered collection data type that is iterable, muteable, and has no duplicate elements. Python's sets class reperesents the mathematical notation of set. This is based on a data structure known as a hash table."
   ]
  },
  {
   "cell_type": "code",
   "execution_count": 1,
   "id": "bad60985",
   "metadata": {},
   "outputs": [
    {
     "name": "stdout",
     "output_type": "stream",
     "text": [
      "set()\n"
     ]
    },
    {
     "data": {
      "text/plain": [
       "set"
      ]
     },
     "execution_count": 1,
     "metadata": {},
     "output_type": "execute_result"
    }
   ],
   "source": [
    "set_var = set()\n",
    "print(set_var)\n",
    "type(set_var)"
   ]
  },
  {
   "cell_type": "code",
   "execution_count": 2,
   "id": "47a29785",
   "metadata": {},
   "outputs": [],
   "source": [
    "set_var = {'Ironman', 'Hulk', 'Captin-america', 'Thor', 'Hawk_eye', 'Black_wido'}"
   ]
  },
  {
   "cell_type": "code",
   "execution_count": 3,
   "id": "36f40aeb",
   "metadata": {},
   "outputs": [
    {
     "name": "stdout",
     "output_type": "stream",
     "text": [
      "{'Thor', 'Hulk', 'Captin-america', 'Hawk_eye', 'Black_wido', 'Ironman'}\n"
     ]
    }
   ],
   "source": [
    "print(set_var)"
   ]
  },
  {
   "cell_type": "code",
   "execution_count": 4,
   "id": "77370eb1",
   "metadata": {},
   "outputs": [
    {
     "data": {
      "text/plain": [
       "set"
      ]
     },
     "execution_count": 4,
     "metadata": {},
     "output_type": "execute_result"
    }
   ],
   "source": [
    "type(set_var)"
   ]
  },
  {
   "cell_type": "code",
   "execution_count": 5,
   "id": "7f8c53d2",
   "metadata": {},
   "outputs": [],
   "source": [
    "set_int = {1, 2, 3, 4, 3}"
   ]
  },
  {
   "cell_type": "code",
   "execution_count": 6,
   "id": "5d6fef71",
   "metadata": {},
   "outputs": [
    {
     "data": {
      "text/plain": [
       "{1, 2, 3, 4}"
      ]
     },
     "execution_count": 6,
     "metadata": {},
     "output_type": "execute_result"
    }
   ],
   "source": [
    "set_int"
   ]
  },
  {
   "cell_type": "code",
   "execution_count": 8,
   "id": "d54cf320",
   "metadata": {},
   "outputs": [],
   "source": [
    "# Set doesn't support indexing\n",
    "#set_var[0]"
   ]
  },
  {
   "cell_type": "code",
   "execution_count": 9,
   "id": "b1fe7c1c",
   "metadata": {},
   "outputs": [],
   "source": [
    "# inbuild function\n",
    "set_var.add('Baki')"
   ]
  },
  {
   "cell_type": "code",
   "execution_count": 10,
   "id": "58441ad1",
   "metadata": {},
   "outputs": [
    {
     "data": {
      "text/plain": [
       "{'Baki', 'Black_wido', 'Captin-america', 'Hawk_eye', 'Hulk', 'Ironman', 'Thor'}"
      ]
     },
     "execution_count": 10,
     "metadata": {},
     "output_type": "execute_result"
    }
   ],
   "source": [
    "set_var"
   ]
  },
  {
   "cell_type": "code",
   "execution_count": 18,
   "id": "50a2002a",
   "metadata": {},
   "outputs": [],
   "source": [
    "set_var1 = {'Avengers', 'IronMan', 'HitMan'}\n",
    "set_var2 = {'Avengers', 'IronMan', 'HitMan', 'Hulk'}"
   ]
  },
  {
   "cell_type": "code",
   "execution_count": 19,
   "id": "e79bcac7",
   "metadata": {},
   "outputs": [
    {
     "data": {
      "text/plain": [
       "{'Avengers', 'HitMan', 'IronMan'}"
      ]
     },
     "execution_count": 19,
     "metadata": {},
     "output_type": "execute_result"
    }
   ],
   "source": [
    "set_var2.intersection(set_var1)"
   ]
  },
  {
   "cell_type": "code",
   "execution_count": 20,
   "id": "f4ccfbba",
   "metadata": {},
   "outputs": [],
   "source": [
    "# Intersection_update\n",
    "set_var2.intersection_update(set_var1)"
   ]
  },
  {
   "cell_type": "code",
   "execution_count": 21,
   "id": "46a5e1be",
   "metadata": {},
   "outputs": [
    {
     "name": "stdout",
     "output_type": "stream",
     "text": [
      "{'Avengers', 'IronMan', 'HitMan'}\n"
     ]
    }
   ],
   "source": [
    "print(set_var2)"
   ]
  },
  {
   "cell_type": "code",
   "execution_count": 17,
   "id": "4c80378b",
   "metadata": {},
   "outputs": [
    {
     "name": "stdout",
     "output_type": "stream",
     "text": [
      "{'Hulk'}\n"
     ]
    }
   ],
   "source": [
    "print(set_var2)"
   ]
  },
  {
   "cell_type": "code",
   "execution_count": 12,
   "id": "81fe0ca0",
   "metadata": {},
   "outputs": [
    {
     "data": {
      "text/plain": [
       "{'Hulk'}"
      ]
     },
     "execution_count": 12,
     "metadata": {},
     "output_type": "execute_result"
    }
   ],
   "source": [
    "# Difference\n",
    "\n",
    "set_var2.difference(set_var1)"
   ]
  },
  {
   "cell_type": "code",
   "execution_count": 13,
   "id": "efbe350a",
   "metadata": {},
   "outputs": [
    {
     "data": {
      "text/plain": [
       "{'Avengers', 'HitMan', 'Hulk', 'IronMan'}"
      ]
     },
     "execution_count": 13,
     "metadata": {},
     "output_type": "execute_result"
    }
   ],
   "source": [
    "set_var2"
   ]
  },
  {
   "cell_type": "code",
   "execution_count": 14,
   "id": "60d9acc7",
   "metadata": {},
   "outputs": [],
   "source": [
    "# Difference_Update\n",
    "set_var2.difference_update(set_var1)"
   ]
  },
  {
   "cell_type": "code",
   "execution_count": 15,
   "id": "1c272304",
   "metadata": {},
   "outputs": [
    {
     "name": "stdout",
     "output_type": "stream",
     "text": [
      "{'Hulk'}\n"
     ]
    }
   ],
   "source": [
    "print(set_var2)"
   ]
  },
  {
   "cell_type": "code",
   "execution_count": 22,
   "id": "fa571087",
   "metadata": {},
   "outputs": [],
   "source": [
    "fruits = {\"apple\", \"banana\", \"cherry\"}"
   ]
  },
  {
   "cell_type": "code",
   "execution_count": 23,
   "id": "c83eede8",
   "metadata": {},
   "outputs": [],
   "source": [
    "# clear method\n",
    "fruits.clear()"
   ]
  },
  {
   "cell_type": "code",
   "execution_count": 24,
   "id": "cde0979d",
   "metadata": {},
   "outputs": [
    {
     "data": {
      "text/plain": [
       "set()"
      ]
     },
     "execution_count": 24,
     "metadata": {},
     "output_type": "execute_result"
    }
   ],
   "source": [
    "fruits"
   ]
  },
  {
   "cell_type": "code",
   "execution_count": 25,
   "id": "de9a5b35",
   "metadata": {},
   "outputs": [],
   "source": [
    "fruits = {\"apple\", \"banana\", \"cherry\"}"
   ]
  },
  {
   "cell_type": "code",
   "execution_count": 26,
   "id": "2638cac7",
   "metadata": {},
   "outputs": [],
   "source": [
    "# Inbuild copy() method\n",
    "\n",
    "x = fruits.copy()"
   ]
  },
  {
   "cell_type": "code",
   "execution_count": 27,
   "id": "518dbc8b",
   "metadata": {},
   "outputs": [
    {
     "data": {
      "text/plain": [
       "{'apple', 'banana', 'cherry'}"
      ]
     },
     "execution_count": 27,
     "metadata": {},
     "output_type": "execute_result"
    }
   ],
   "source": [
    "x"
   ]
  },
  {
   "cell_type": "code",
   "execution_count": 28,
   "id": "99664b64",
   "metadata": {},
   "outputs": [],
   "source": [
    "a = {\"apple\", \"banana\", \"cherry\"}\n",
    "b = {\"google\", \"microsoft\", \"apple\"}\n",
    "c = {\"cherry\", \"micra\", \"bluebird\"}"
   ]
  },
  {
   "cell_type": "code",
   "execution_count": 29,
   "id": "66627442",
   "metadata": {},
   "outputs": [],
   "source": [
    "# join more than 2 differences\n",
    "myset = a.difference(b, c)"
   ]
  },
  {
   "cell_type": "code",
   "execution_count": 30,
   "id": "5453a698",
   "metadata": {},
   "outputs": [
    {
     "data": {
      "text/plain": [
       "{'banana'}"
      ]
     },
     "execution_count": 30,
     "metadata": {},
     "output_type": "execute_result"
    }
   ],
   "source": [
    "myset"
   ]
  },
  {
   "cell_type": "code",
   "execution_count": 31,
   "id": "707c4bdd",
   "metadata": {},
   "outputs": [],
   "source": [
    "# The discard() method removes the specified item from the set.\n",
    "fruits = {\"apple\", \"banana\", \"cherry\"}"
   ]
  },
  {
   "cell_type": "code",
   "execution_count": 32,
   "id": "856c98be",
   "metadata": {},
   "outputs": [],
   "source": [
    "fruits.discard('apple')"
   ]
  },
  {
   "cell_type": "code",
   "execution_count": 33,
   "id": "e7b7e95a",
   "metadata": {},
   "outputs": [
    {
     "data": {
      "text/plain": [
       "{'banana', 'cherry'}"
      ]
     },
     "execution_count": 33,
     "metadata": {},
     "output_type": "execute_result"
    }
   ],
   "source": [
    "fruits"
   ]
  },
  {
   "cell_type": "code",
   "execution_count": 34,
   "id": "5ba94f71",
   "metadata": {},
   "outputs": [],
   "source": [
    "#The isdisjoint() method returns True if none of the items are present in both sets, otherwise it returns False.\n",
    "\n",
    "x = {\"apple\", \"banana\", \"cherry\"}\n",
    "y = {\"google\", \"microsoft\", \"facebook\"}"
   ]
  },
  {
   "cell_type": "code",
   "execution_count": 35,
   "id": "8c0889d4",
   "metadata": {},
   "outputs": [
    {
     "data": {
      "text/plain": [
       "True"
      ]
     },
     "execution_count": 35,
     "metadata": {},
     "output_type": "execute_result"
    }
   ],
   "source": [
    "x.isdisjoint(y)"
   ]
  },
  {
   "cell_type": "code",
   "execution_count": 36,
   "id": "bf31da66",
   "metadata": {},
   "outputs": [],
   "source": [
    "\"\"\"\n",
    "The issubset() method returns True if all items in the set exists in the specified set, otherwise it returns False.\n",
    "\n",
    "As a shortcut, you can use the <= operator instead, see example below.\n",
    "\"\"\"\n",
    "\n",
    "x = {\"a\", \"b\", \"c\"}\n",
    "y = {\"f\", \"e\", \"d\", \"c\", \"b\", \"a\"}"
   ]
  },
  {
   "cell_type": "code",
   "execution_count": 37,
   "id": "eb1caf30",
   "metadata": {},
   "outputs": [
    {
     "data": {
      "text/plain": [
       "True"
      ]
     },
     "execution_count": 37,
     "metadata": {},
     "output_type": "execute_result"
    }
   ],
   "source": [
    "x.issubset(y)"
   ]
  },
  {
   "cell_type": "code",
   "execution_count": 41,
   "id": "64271f3d",
   "metadata": {},
   "outputs": [
    {
     "data": {
      "text/plain": [
       "True"
      ]
     },
     "execution_count": 41,
     "metadata": {},
     "output_type": "execute_result"
    }
   ],
   "source": [
    "y<=x"
   ]
  },
  {
   "cell_type": "code",
   "execution_count": 39,
   "id": "e4bd5d25",
   "metadata": {},
   "outputs": [],
   "source": [
    "'''\n",
    "The issuperset() method returns True if all items in the specified set exists in the original set, otherwise it returns False.\n",
    "\n",
    "As a shortcut, you can use the >= operator instead, see example below.\n",
    "'''\n",
    "x = {\"f\", \"e\", \"d\", \"c\", \"b\", \"a\"}\n",
    "y = {\"a\", \"b\", \"c\"}"
   ]
  },
  {
   "cell_type": "code",
   "execution_count": 42,
   "id": "12465c2b",
   "metadata": {},
   "outputs": [
    {
     "data": {
      "text/plain": [
       "True"
      ]
     },
     "execution_count": 42,
     "metadata": {},
     "output_type": "execute_result"
    }
   ],
   "source": [
    "x.issuperset(y)"
   ]
  },
  {
   "cell_type": "code",
   "execution_count": 44,
   "id": "159e9452",
   "metadata": {},
   "outputs": [
    {
     "data": {
      "text/plain": [
       "True"
      ]
     },
     "execution_count": 44,
     "metadata": {},
     "output_type": "execute_result"
    }
   ],
   "source": [
    "x >= y"
   ]
  },
  {
   "cell_type": "code",
   "execution_count": 45,
   "id": "20224d1d",
   "metadata": {},
   "outputs": [],
   "source": [
    "'''\n",
    "The remove() method removes the specified element from the set.\n",
    "\n",
    "This method is different from the discard() method, because the remove()\n",
    "method will raise an error if the specified item does not exist, and the discard() method will not.\n",
    "'''\n",
    "fruits = {\"apple\", \"banana\", \"cherry\"}\n",
    "fruits.remove('apple')"
   ]
  },
  {
   "cell_type": "code",
   "execution_count": 46,
   "id": "21b38691",
   "metadata": {},
   "outputs": [
    {
     "data": {
      "text/plain": [
       "{'banana', 'cherry'}"
      ]
     },
     "execution_count": 46,
     "metadata": {},
     "output_type": "execute_result"
    }
   ],
   "source": [
    "fruits"
   ]
  },
  {
   "cell_type": "markdown",
   "id": "1a51696a",
   "metadata": {},
   "source": [
    "# Dictonaries"
   ]
  },
  {
   "cell_type": "markdown",
   "id": "dd031063",
   "metadata": {},
   "source": [
    "A dictornary is a collection which is unordered, changeable and indexed. in python dictionaries are written with curly braces\n",
    "and they have keys and values."
   ]
  },
  {
   "cell_type": "code",
   "execution_count": 47,
   "id": "8ac0b6a3",
   "metadata": {},
   "outputs": [],
   "source": [
    "dct = {}"
   ]
  },
  {
   "cell_type": "code",
   "execution_count": 48,
   "id": "2fc3eab6",
   "metadata": {},
   "outputs": [
    {
     "data": {
      "text/plain": [
       "dict"
      ]
     },
     "execution_count": 48,
     "metadata": {},
     "output_type": "execute_result"
    }
   ],
   "source": [
    "type(dct)"
   ]
  },
  {
   "cell_type": "code",
   "execution_count": 50,
   "id": "116d9886",
   "metadata": {},
   "outputs": [],
   "source": [
    "# lets create a dictionary\n",
    "\n",
    "my_dict = {'car1':'Audi', 'car2': 'BMW', 'car3': 'Mercidies Benz'}"
   ]
  },
  {
   "cell_type": "code",
   "execution_count": 51,
   "id": "8372ca16",
   "metadata": {},
   "outputs": [
    {
     "data": {
      "text/plain": [
       "{'car1': 'Audi', 'car2': 'BMW', 'car3': 'Mercidies Benz'}"
      ]
     },
     "execution_count": 51,
     "metadata": {},
     "output_type": "execute_result"
    }
   ],
   "source": [
    "my_dict"
   ]
  },
  {
   "cell_type": "code",
   "execution_count": 52,
   "id": "c3ca420c",
   "metadata": {},
   "outputs": [
    {
     "data": {
      "text/plain": [
       "dict"
      ]
     },
     "execution_count": 52,
     "metadata": {},
     "output_type": "execute_result"
    }
   ],
   "source": [
    "type(my_dict)"
   ]
  },
  {
   "cell_type": "code",
   "execution_count": 53,
   "id": "9affac2f",
   "metadata": {},
   "outputs": [
    {
     "data": {
      "text/plain": [
       "'Audi'"
      ]
     },
     "execution_count": 53,
     "metadata": {},
     "output_type": "execute_result"
    }
   ],
   "source": [
    "my_dict['car1']"
   ]
  },
  {
   "cell_type": "code",
   "execution_count": 54,
   "id": "23a61d56",
   "metadata": {},
   "outputs": [
    {
     "name": "stdout",
     "output_type": "stream",
     "text": [
      "car1\n",
      "car2\n",
      "car3\n"
     ]
    }
   ],
   "source": [
    "# loop through the dictionaries keys\n",
    "for i in my_dict:\n",
    "    print(i)"
   ]
  },
  {
   "cell_type": "code",
   "execution_count": 57,
   "id": "2aeafeb3",
   "metadata": {},
   "outputs": [
    {
     "name": "stdout",
     "output_type": "stream",
     "text": [
      "Audi\n",
      "BMW\n",
      "Mercidies Benz\n"
     ]
    }
   ],
   "source": [
    "for j in my_dict.values(): # loop through the dict values\n",
    "    print(j)"
   ]
  },
  {
   "cell_type": "code",
   "execution_count": 58,
   "id": "7edba8eb",
   "metadata": {},
   "outputs": [
    {
     "name": "stdout",
     "output_type": "stream",
     "text": [
      "('car1', 'Audi')\n",
      "('car2', 'BMW')\n",
      "('car3', 'Mercidies Benz')\n"
     ]
    }
   ],
   "source": [
    "for i in my_dict.items(): # checking both keys and values\n",
    "    print(i)"
   ]
  },
  {
   "cell_type": "code",
   "execution_count": 59,
   "id": "2f7a0402",
   "metadata": {},
   "outputs": [],
   "source": [
    "# adding items in Dictionaries\n",
    "my_dict['car4'] = 'Toyota'"
   ]
  },
  {
   "cell_type": "code",
   "execution_count": 60,
   "id": "352cd55c",
   "metadata": {},
   "outputs": [
    {
     "data": {
      "text/plain": [
       "{'car1': 'Audi', 'car2': 'BMW', 'car3': 'Mercidies Benz', 'car4': 'Toyota'}"
      ]
     },
     "execution_count": 60,
     "metadata": {},
     "output_type": "execute_result"
    }
   ],
   "source": [
    "my_dict"
   ]
  },
  {
   "cell_type": "code",
   "execution_count": 61,
   "id": "65b976f5",
   "metadata": {},
   "outputs": [],
   "source": [
    "lst = []"
   ]
  },
  {
   "cell_type": "code",
   "execution_count": 62,
   "id": "1fac8f6a",
   "metadata": {},
   "outputs": [],
   "source": [
    "for i in my_dict.values(): \n",
    "    lst.append(i) # values are adding in the list"
   ]
  },
  {
   "cell_type": "code",
   "execution_count": 63,
   "id": "c65d7ecf",
   "metadata": {},
   "outputs": [
    {
     "data": {
      "text/plain": [
       "['Audi', 'BMW', 'Mercidies Benz', 'Toyota']"
      ]
     },
     "execution_count": 63,
     "metadata": {},
     "output_type": "execute_result"
    }
   ],
   "source": [
    "lst"
   ]
  },
  {
   "cell_type": "code",
   "execution_count": 64,
   "id": "58fb590d",
   "metadata": {},
   "outputs": [
    {
     "data": {
      "text/plain": [
       "list"
      ]
     },
     "execution_count": 64,
     "metadata": {},
     "output_type": "execute_result"
    }
   ],
   "source": [
    "type(lst)"
   ]
  },
  {
   "cell_type": "code",
   "execution_count": 65,
   "id": "fcdf99e1",
   "metadata": {},
   "outputs": [],
   "source": [
    "my_dict['car1'] = 'VW' # replacing Audi to VW"
   ]
  },
  {
   "cell_type": "code",
   "execution_count": 66,
   "id": "76734005",
   "metadata": {},
   "outputs": [
    {
     "data": {
      "text/plain": [
       "{'car1': 'VW', 'car2': 'BMW', 'car3': 'Mercidies Benz', 'car4': 'Toyota'}"
      ]
     },
     "execution_count": 66,
     "metadata": {},
     "output_type": "execute_result"
    }
   ],
   "source": [
    "my_dict"
   ]
  },
  {
   "cell_type": "markdown",
   "id": "08037ade",
   "metadata": {},
   "source": [
    "# Nested Dictionary"
   ]
  },
  {
   "cell_type": "code",
   "execution_count": 67,
   "id": "3b8ca61e",
   "metadata": {},
   "outputs": [],
   "source": [
    "car1_model = {'Mercidies': 2024}\n",
    "car2_model = {'Audi': 2022}\n",
    "car3_model = {'BMW': 2023}"
   ]
  },
  {
   "cell_type": "code",
   "execution_count": 68,
   "id": "2d82fd63",
   "metadata": {},
   "outputs": [],
   "source": [
    "car_type = {'car1': car1_model, 'car2': car2_model, 'car3': car3_model}"
   ]
  },
  {
   "cell_type": "code",
   "execution_count": 69,
   "id": "7d91746d",
   "metadata": {},
   "outputs": [
    {
     "data": {
      "text/plain": [
       "dict"
      ]
     },
     "execution_count": 69,
     "metadata": {},
     "output_type": "execute_result"
    }
   ],
   "source": [
    "type(car_type)"
   ]
  },
  {
   "cell_type": "code",
   "execution_count": 70,
   "id": "f665cedc",
   "metadata": {},
   "outputs": [
    {
     "name": "stdout",
     "output_type": "stream",
     "text": [
      "{'car1': {'Mercidies': 2024}, 'car2': {'Audi': 2022}, 'car3': {'BMW': 2023}}\n"
     ]
    }
   ],
   "source": [
    "print(car_type)"
   ]
  },
  {
   "cell_type": "code",
   "execution_count": 72,
   "id": "0b94b381",
   "metadata": {},
   "outputs": [
    {
     "data": {
      "text/plain": [
       "2024"
      ]
     },
     "execution_count": 72,
     "metadata": {},
     "output_type": "execute_result"
    }
   ],
   "source": [
    "# Accesing the items in the dictionary\n",
    "car_type['car1']"
   ]
  },
  {
   "cell_type": "code",
   "execution_count": 73,
   "id": "aa1d99e0",
   "metadata": {},
   "outputs": [
    {
     "data": {
      "text/plain": [
       "2024"
      ]
     },
     "execution_count": 73,
     "metadata": {},
     "output_type": "execute_result"
    }
   ],
   "source": [
    "car_type['car1']['Mercidies'] # getting the values from nested dict"
   ]
  },
  {
   "cell_type": "markdown",
   "id": "264fb434",
   "metadata": {},
   "source": [
    "# Tupels"
   ]
  },
  {
   "cell_type": "code",
   "execution_count": 74,
   "id": "f3304b2d",
   "metadata": {},
   "outputs": [],
   "source": [
    "# create an emty tuples \n",
    "my_tuple = tuple() # tipule is immutable method "
   ]
  },
  {
   "cell_type": "code",
   "execution_count": 75,
   "id": "13aae172",
   "metadata": {},
   "outputs": [
    {
     "data": {
      "text/plain": [
       "tuple"
      ]
     },
     "execution_count": 75,
     "metadata": {},
     "output_type": "execute_result"
    }
   ],
   "source": [
    "type(my_tuple)"
   ]
  },
  {
   "cell_type": "code",
   "execution_count": 76,
   "id": "cd3bb043",
   "metadata": {},
   "outputs": [],
   "source": [
    "mytuple = (\"apple\", \"banana\", \"cherry\")"
   ]
  },
  {
   "cell_type": "code",
   "execution_count": 79,
   "id": "72519969",
   "metadata": {},
   "outputs": [
    {
     "data": {
      "text/plain": [
       "'apple'"
      ]
     },
     "execution_count": 79,
     "metadata": {},
     "output_type": "execute_result"
    }
   ],
   "source": [
    "mytuple[0]# indexing"
   ]
  },
  {
   "cell_type": "code",
   "execution_count": null,
   "id": "39de9560",
   "metadata": {},
   "outputs": [],
   "source": []
  }
 ],
 "metadata": {
  "kernelspec": {
   "display_name": "Python 3 (ipykernel)",
   "language": "python",
   "name": "python3"
  },
  "language_info": {
   "codemirror_mode": {
    "name": "ipython",
    "version": 3
   },
   "file_extension": ".py",
   "mimetype": "text/x-python",
   "name": "python",
   "nbconvert_exporter": "python",
   "pygments_lexer": "ipython3",
   "version": "3.11.3"
  }
 },
 "nbformat": 4,
 "nbformat_minor": 5
}
