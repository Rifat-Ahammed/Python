{
 "cells": [
  {
   "cell_type": "markdown",
   "id": "83edaa75-ecab-42bb-b444-786bc3c422d4",
   "metadata": {},
   "source": [
    "# OOPs"
   ]
  },
  {
   "cell_type": "code",
   "execution_count": 1,
   "id": "6928692c-f660-4694-9937-d6f9d3016a5f",
   "metadata": {},
   "outputs": [],
   "source": [
    "# Creating a class\n",
    "\n",
    "class Car:\n",
    "    pass"
   ]
  },
  {
   "cell_type": "code",
   "execution_count": 2,
   "id": "3c114cd7-00c8-4684-a99e-6956a23c0f5f",
   "metadata": {},
   "outputs": [],
   "source": [
    "car1 = Car() # car1 is an instance "
   ]
  },
  {
   "cell_type": "code",
   "execution_count": 9,
   "id": "b80389bf-454a-4378-bd2f-037ee7112503",
   "metadata": {},
   "outputs": [
    {
     "data": {
      "text/plain": [
       "['__class__',\n",
       " '__delattr__',\n",
       " '__dict__',\n",
       " '__dir__',\n",
       " '__doc__',\n",
       " '__eq__',\n",
       " '__format__',\n",
       " '__ge__',\n",
       " '__getattribute__',\n",
       " '__getstate__',\n",
       " '__gt__',\n",
       " '__hash__',\n",
       " '__init__',\n",
       " '__init_subclass__',\n",
       " '__le__',\n",
       " '__lt__',\n",
       " '__module__',\n",
       " '__ne__',\n",
       " '__new__',\n",
       " '__reduce__',\n",
       " '__reduce_ex__',\n",
       " '__repr__',\n",
       " '__setattr__',\n",
       " '__sizeof__',\n",
       " '__str__',\n",
       " '__subclasshook__',\n",
       " '__weakref__',\n",
       " 'doors',\n",
       " 'windows']"
      ]
     },
     "execution_count": 9,
     "metadata": {},
     "output_type": "execute_result"
    }
   ],
   "source": [
    "dir(car1)"
   ]
  },
  {
   "cell_type": "code",
   "execution_count": 4,
   "id": "d3e327aa-6d2a-4bda-a218-4a932ef95dfd",
   "metadata": {},
   "outputs": [],
   "source": [
    "car1.windows = 5\n",
    "car1.doors = 4"
   ]
  },
  {
   "cell_type": "code",
   "execution_count": 5,
   "id": "1aff2f8a-923a-439f-bb0f-eee576786c0d",
   "metadata": {},
   "outputs": [
    {
     "name": "stdout",
     "output_type": "stream",
     "text": [
      "5\n"
     ]
    }
   ],
   "source": [
    "print(car1.windows)"
   ]
  },
  {
   "cell_type": "code",
   "execution_count": 6,
   "id": "f8ede05f-6ae7-4a07-85c8-67a6bc0b904c",
   "metadata": {},
   "outputs": [],
   "source": [
    "car2 = Car()"
   ]
  },
  {
   "cell_type": "code",
   "execution_count": 7,
   "id": "2d8b340b-0871-4618-9eab-f7f95fd84e20",
   "metadata": {},
   "outputs": [],
   "source": [
    "car2.windows = 3\n",
    "car2.doors = 2"
   ]
  },
  {
   "cell_type": "code",
   "execution_count": 8,
   "id": "14355cc6-6b39-428a-ad03-2d9e1f39e122",
   "metadata": {},
   "outputs": [
    {
     "name": "stdout",
     "output_type": "stream",
     "text": [
      "3\n"
     ]
    }
   ],
   "source": [
    "print(car2.windows)"
   ]
  },
  {
   "cell_type": "code",
   "execution_count": 16,
   "id": "529c477e-9403-46da-9b4e-501913cedae1",
   "metadata": {},
   "outputs": [],
   "source": [
    "class Car:\n",
    "\n",
    "    def __init__(self, window, door, enginetype):\n",
    "\n",
    "        self.windows = window\n",
    "        self.doors = door\n",
    "        self.enginetype = enginetype\n",
    "\n",
    "    def self_driving(self):\n",
    "        return \"this is a {} type car.\".format(self.enginetype)"
   ]
  },
  {
   "cell_type": "code",
   "execution_count": 17,
   "id": "a006a77c-23a0-4f03-a4b8-f9b2af07a031",
   "metadata": {},
   "outputs": [],
   "source": [
    "car1 = Car(5, 4, \"Petrol\")"
   ]
  },
  {
   "cell_type": "code",
   "execution_count": 18,
   "id": "36dad5d9-a0cd-45ae-b98f-578d078d44c4",
   "metadata": {},
   "outputs": [
    {
     "data": {
      "text/plain": [
       "'this is a Petrol type car.'"
      ]
     },
     "execution_count": 18,
     "metadata": {},
     "output_type": "execute_result"
    }
   ],
   "source": [
    "car1.self_driving()"
   ]
  },
  {
   "cell_type": "code",
   "execution_count": null,
   "id": "b5e0bd55-b525-49d5-86f6-a3d3d57a79cb",
   "metadata": {},
   "outputs": [],
   "source": []
  },
  {
   "cell_type": "code",
   "execution_count": 12,
   "id": "0579167a-4d4c-4d1d-a1d7-4774c5af5530",
   "metadata": {},
   "outputs": [],
   "source": [
    "car2 = Car(4, 2, \"Diesel\")"
   ]
  },
  {
   "cell_type": "code",
   "execution_count": 13,
   "id": "92fe3319-23ab-4844-82b8-4e6fe52fefd3",
   "metadata": {},
   "outputs": [
    {
     "name": "stdout",
     "output_type": "stream",
     "text": [
      "5\n"
     ]
    }
   ],
   "source": [
    "print(car1.windows)"
   ]
  },
  {
   "cell_type": "code",
   "execution_count": 14,
   "id": "c722a3c1-68f6-4859-a7b8-b29676b797fd",
   "metadata": {},
   "outputs": [
    {
     "name": "stdout",
     "output_type": "stream",
     "text": [
      "Diesel\n"
     ]
    }
   ],
   "source": [
    "print(car2.enginetype)"
   ]
  },
  {
   "cell_type": "code",
   "execution_count": null,
   "id": "0021d95d-ccd5-45e4-b1a9-447014aa3e3d",
   "metadata": {},
   "outputs": [],
   "source": []
  }
 ],
 "metadata": {
  "kernelspec": {
   "display_name": "Python 3 (ipykernel)",
   "language": "python",
   "name": "python3"
  },
  "language_info": {
   "codemirror_mode": {
    "name": "ipython",
    "version": 3
   },
   "file_extension": ".py",
   "mimetype": "text/x-python",
   "name": "python",
   "nbconvert_exporter": "python",
   "pygments_lexer": "ipython3",
   "version": "3.11.3"
  }
 },
 "nbformat": 4,
 "nbformat_minor": 5
}
