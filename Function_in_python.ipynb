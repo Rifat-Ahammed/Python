{
 "cells": [
  {
   "cell_type": "code",
   "execution_count": 1,
   "id": "5dbf05af",
   "metadata": {},
   "outputs": [],
   "source": [
    "import numpy as np"
   ]
  },
  {
   "cell_type": "markdown",
   "id": "a99a0f33",
   "metadata": {},
   "source": [
    "# Function"
   ]
  },
  {
   "cell_type": "code",
   "execution_count": 13,
   "id": "0dba44dc",
   "metadata": {},
   "outputs": [],
   "source": [
    "def even_odd(num):\n",
    "    \n",
    "    if num%2==0:\n",
    "        print(\"Number {} is even\".format(num))\n",
    "    else:\n",
    "        print(\" Number {} is odd\".format(num))"
   ]
  },
  {
   "cell_type": "code",
   "execution_count": 16,
   "id": "31f95007",
   "metadata": {},
   "outputs": [
    {
     "name": "stdout",
     "output_type": "stream",
     "text": [
      "Enter a number24\n",
      "Number 24 is even\n"
     ]
    }
   ],
   "source": [
    "num = int(input(\"Enter a number\"))\n",
    "even_odd(num)"
   ]
  },
  {
   "cell_type": "code",
   "execution_count": 17,
   "id": "54387ab8",
   "metadata": {},
   "outputs": [],
   "source": [
    "# reutrn function\n",
    "\n",
    "def even_odd(num):\n",
    "    \n",
    "    if num%2==0:\n",
    "        return \"Number {} is even\".format(num)\n",
    "    else:\n",
    "        return \" Number {} is odd\".format(num)"
   ]
  },
  {
   "cell_type": "code",
   "execution_count": 18,
   "id": "cd63f097",
   "metadata": {},
   "outputs": [
    {
     "name": "stdout",
     "output_type": "stream",
     "text": [
      "enter a number: 24\n",
      "Number 24 is even\n"
     ]
    }
   ],
   "source": [
    "num = int(input(\"enter a number: \"))\n",
    "ans = even_odd(num)\n",
    "print(ans)"
   ]
  },
  {
   "cell_type": "code",
   "execution_count": 19,
   "id": "27da8469",
   "metadata": {},
   "outputs": [],
   "source": [
    "#print function with \".format()\"\n",
    "\n",
    "def hello(name, age=25): # here name is positional arguments and age is keyword arguments\n",
    "    print(\"My name is {} and age is {}\". format(name, age))\n"
   ]
  },
  {
   "cell_type": "code",
   "execution_count": 21,
   "id": "c392d237",
   "metadata": {},
   "outputs": [
    {
     "name": "stdout",
     "output_type": "stream",
     "text": [
      "My name is Rifat and age is 25\n"
     ]
    }
   ],
   "source": [
    "hello('Rifat')"
   ]
  },
  {
   "cell_type": "code",
   "execution_count": 22,
   "id": "8c912714",
   "metadata": {},
   "outputs": [],
   "source": [
    "def hello(*args, **kwargs):\n",
    "    print(args)\n",
    "    print(kwargs)"
   ]
  },
  {
   "cell_type": "code",
   "execution_count": 23,
   "id": "8c61e651",
   "metadata": {},
   "outputs": [
    {
     "name": "stdout",
     "output_type": "stream",
     "text": [
      "('Rifat', 'Ahammed')\n",
      "{'age': 25, 'DoB': 1998}\n"
     ]
    }
   ],
   "source": [
    "hello('Rifat', 'Ahammed', age=25, DoB=1998)"
   ]
  },
  {
   "cell_type": "code",
   "execution_count": 24,
   "id": "a5bd4db5",
   "metadata": {},
   "outputs": [],
   "source": [
    "# another way to express\n",
    "\n",
    "lst = ['Rifat', 'Ahammed']\n",
    "dct_args = {'age': 25, 'DoB': 1998}"
   ]
  },
  {
   "cell_type": "code",
   "execution_count": 25,
   "id": "2b527dec",
   "metadata": {},
   "outputs": [
    {
     "name": "stdout",
     "output_type": "stream",
     "text": [
      "(['Rifat', 'Ahammed'], {'age': 25, 'DoB': 1998})\n",
      "{}\n"
     ]
    }
   ],
   "source": [
    "hello(lst, dct_args) # here what happend? let me explain lst and dct_args assigned into args to solve this issue"
   ]
  },
  {
   "cell_type": "code",
   "execution_count": 26,
   "id": "5bb07962",
   "metadata": {},
   "outputs": [
    {
     "name": "stdout",
     "output_type": "stream",
     "text": [
      "('Rifat', 'Ahammed')\n",
      "{'age': 25, 'DoB': 1998}\n"
     ]
    }
   ],
   "source": [
    "hello(*lst, **dct_args) # i have to call this function have to use *, ** method"
   ]
  },
  {
   "cell_type": "code",
   "execution_count": 27,
   "id": "b990ffdd",
   "metadata": {},
   "outputs": [],
   "source": [
    "lst = [1, 2, 3, 4, 5, 6, 7, 8, 9, 10]"
   ]
  },
  {
   "cell_type": "code",
   "execution_count": 29,
   "id": "01447d68",
   "metadata": {},
   "outputs": [],
   "source": [
    "def EvenOddSum(lst):\n",
    "    even_sum = 0\n",
    "    odd_sum = 0\n",
    "    \n",
    "    for i in lst:\n",
    "        \n",
    "        if i%2==0:\n",
    "            even_sum = even_sum+i\n",
    "            \n",
    "        else:\n",
    "            odd_sum = odd_sum+i\n",
    "            \n",
    "    return even_sum, odd_sum"
   ]
  },
  {
   "cell_type": "code",
   "execution_count": 30,
   "id": "bd4c67ab",
   "metadata": {},
   "outputs": [
    {
     "data": {
      "text/plain": [
       "(30, 25)"
      ]
     },
     "execution_count": 30,
     "metadata": {},
     "output_type": "execute_result"
    }
   ],
   "source": [
    "EvenOddSum(lst)"
   ]
  },
  {
   "cell_type": "code",
   "execution_count": null,
   "id": "f541b9cb",
   "metadata": {},
   "outputs": [],
   "source": []
  }
 ],
 "metadata": {
  "kernelspec": {
   "display_name": "Python 3 (ipykernel)",
   "language": "python",
   "name": "python3"
  },
  "language_info": {
   "codemirror_mode": {
    "name": "ipython",
    "version": 3
   },
   "file_extension": ".py",
   "mimetype": "text/x-python",
   "name": "python",
   "nbconvert_exporter": "python",
   "pygments_lexer": "ipython3",
   "version": "3.11.3"
  }
 },
 "nbformat": 4,
 "nbformat_minor": 5
}
