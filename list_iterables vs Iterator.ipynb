{
 "cells": [
  {
   "cell_type": "code",
   "execution_count": 3,
   "id": "7befe3c9-0818-4204-9ed3-ec5de279ede6",
   "metadata": {},
   "outputs": [],
   "source": [
    "# list is iterable\n",
    "lst = [1, 2, 3, 4, 5, 6, 7, 8]"
   ]
  },
  {
   "cell_type": "code",
   "execution_count": 2,
   "id": "40b706cb-4f32-44a3-abd6-818f7a40ca5e",
   "metadata": {},
   "outputs": [
    {
     "name": "stdout",
     "output_type": "stream",
     "text": [
      "1\n",
      "2\n",
      "3\n",
      "4\n",
      "5\n",
      "6\n",
      "7\n",
      "8\n"
     ]
    }
   ],
   "source": [
    "for i in lst:\n",
    "\n",
    "    print(i)"
   ]
  },
  {
   "cell_type": "markdown",
   "id": "6543fecb-ca62-406b-9a2d-294adebebff6",
   "metadata": {},
   "source": [
    "## Iterator"
   ]
  },
  {
   "cell_type": "code",
   "execution_count": 6,
   "id": "050b68e6-a11d-46fa-8b0e-f61b6219434f",
   "metadata": {},
   "outputs": [],
   "source": [
    "# convert a list iterables to iterator using \"iter\"\n",
    "lst1 = iter(lst)"
   ]
  },
  {
   "cell_type": "code",
   "execution_count": 8,
   "id": "e775f0b2-049d-4cb5-ad5c-edbdf564928c",
   "metadata": {},
   "outputs": [
    {
     "data": {
      "text/plain": [
       "1"
      ]
     },
     "execution_count": 8,
     "metadata": {},
     "output_type": "execute_result"
    }
   ],
   "source": [
    "next(lst1)"
   ]
  },
  {
   "cell_type": "code",
   "execution_count": 10,
   "id": "22b88024-3b18-4e59-9b4f-75b5d2dae5fb",
   "metadata": {},
   "outputs": [],
   "source": [
    "# using while loop\n",
    "lst = [1, 2, 3, 4, 5, 6, 7, 8]\n"
   ]
  },
  {
   "cell_type": "code",
   "execution_count": 11,
   "id": "53418079-d267-4afa-abd8-94b638341450",
   "metadata": {},
   "outputs": [],
   "source": [
    "iterator = iter(lst)"
   ]
  },
  {
   "cell_type": "code",
   "execution_count": 13,
   "id": "8bb40ef0-d37c-4f53-9171-fe52ce3f2bc5",
   "metadata": {},
   "outputs": [
    {
     "name": "stdout",
     "output_type": "stream",
     "text": [
      "1\n",
      "2\n",
      "3\n",
      "4\n",
      "5\n",
      "6\n",
      "7\n",
      "8\n"
     ]
    }
   ],
   "source": [
    "try:\n",
    "    while True:\n",
    "        element = next(iterator)\n",
    "        print(element)\n",
    "except StopIteration:\n",
    "    pass"
   ]
  },
  {
   "cell_type": "markdown",
   "id": "4621c9e6-ee65-4cb1-a084-4edcdade81fe",
   "metadata": {},
   "source": [
    "## Iterate over a list in Python using the map() function"
   ]
  },
  {
   "cell_type": "code",
   "execution_count": 15,
   "id": "601175f8-a323-4966-871a-ee2486ac6cb7",
   "metadata": {},
   "outputs": [],
   "source": [
    "def print_elelment(element):\n",
    "    print(element)\n",
    "\n",
    "lst = [1, 2, 3, 4, 5, 6]\n",
    "\n",
    "## Use map() to apply the print_element() function to each element of the list\n",
    "result = map(print_elelment, lst)\n"
   ]
  },
  {
   "cell_type": "code",
   "execution_count": 16,
   "id": "fa76271c-e95f-4603-9b00-9e89ccba6e64",
   "metadata": {},
   "outputs": [
    {
     "name": "stdout",
     "output_type": "stream",
     "text": [
      "1\n",
      "2\n",
      "3\n",
      "4\n",
      "5\n",
      "6\n"
     ]
    }
   ],
   "source": [
    "for _ in result:\n",
    "    pass"
   ]
  },
  {
   "cell_type": "markdown",
   "id": "e2ca6bff-9b93-431f-a821-183857e18687",
   "metadata": {},
   "source": [
    "## Python Iterate Over Multiple Lists Using zip() Function"
   ]
  },
  {
   "cell_type": "code",
   "execution_count": 17,
   "id": "a6b79231-b424-4f62-9098-247e73abad3c",
   "metadata": {},
   "outputs": [],
   "source": [
    "list1 = [1, 2, 3]\n",
    "list2 = ['p', 'q', 'r']"
   ]
  },
  {
   "cell_type": "code",
   "execution_count": 22,
   "id": "46765968-fb34-415c-978d-c942c9031a8d",
   "metadata": {},
   "outputs": [
    {
     "name": "stdout",
     "output_type": "stream",
     "text": [
      "1 -> p\n",
      "2 -> q\n",
      "3 -> r\n"
     ]
    }
   ],
   "source": [
    "for i, j in zip(list1, list2): ## Using zip() to iterate over multiple lists simultaneously\n",
    "    print('{i} -> {j}'.format(i=i, j=j))"
   ]
  },
  {
   "cell_type": "markdown",
   "id": "364d300c-2109-4e9a-b20e-6406e86674b2",
   "metadata": {},
   "source": [
    "## Iterate over a list in Python Using NumPy"
   ]
  },
  {
   "cell_type": "code",
   "execution_count": 23,
   "id": "49dc6201-9e70-4030-9c9b-e391cf9ea970",
   "metadata": {},
   "outputs": [],
   "source": [
    "import numpy as np\n",
    "\n",
    "a = np.arange(9)\n",
    "a = a.reshape(3, 3)"
   ]
  },
  {
   "cell_type": "code",
   "execution_count": 24,
   "id": "85c262ef-0abf-4f46-aba1-a2f405124298",
   "metadata": {},
   "outputs": [
    {
     "name": "stdout",
     "output_type": "stream",
     "text": [
      "0\n",
      "1\n",
      "2\n",
      "3\n",
      "4\n",
      "5\n",
      "6\n",
      "7\n",
      "8\n"
     ]
    }
   ],
   "source": [
    "for i in np.nditer(a):\n",
    "    print(i)"
   ]
  },
  {
   "cell_type": "code",
   "execution_count": null,
   "id": "fc415abd-a4bd-409e-b9cd-8d93b6faf006",
   "metadata": {},
   "outputs": [],
   "source": [
    " "
   ]
  }
 ],
 "metadata": {
  "kernelspec": {
   "display_name": "Python 3 (ipykernel)",
   "language": "python",
   "name": "python3"
  },
  "language_info": {
   "codemirror_mode": {
    "name": "ipython",
    "version": 3
   },
   "file_extension": ".py",
   "mimetype": "text/x-python",
   "name": "python",
   "nbconvert_exporter": "python",
   "pygments_lexer": "ipython3",
   "version": "3.11.3"
  }
 },
 "nbformat": 4,
 "nbformat_minor": 5
}
