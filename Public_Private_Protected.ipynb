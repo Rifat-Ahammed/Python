{
 "cells": [
  {
   "cell_type": "markdown",
   "id": "2abe75a9-196c-4353-b4f2-04f61fdbc414",
   "metadata": {},
   "source": [
    "# Python OOPs - Public, Private, Protected"
   ]
  },
  {
   "cell_type": "code",
   "execution_count": 1,
   "id": "e0b2eceb-01e8-4ba8-a235-e7db61d6c8ef",
   "metadata": {},
   "outputs": [],
   "source": [
    "class Audi():\n",
    "\n",
    "    def __init__(self, Windows, Doors, enginetype): # can be access from anywhere\n",
    "\n",
    "        self.Windows = Windows\n",
    "        self.Doors = Doors\n",
    "        self.enginetype = enginetype"
   ]
  },
  {
   "cell_type": "code",
   "execution_count": 2,
   "id": "a5e02a20-cd1b-4b8d-b649-8321a244dcfa",
   "metadata": {},
   "outputs": [],
   "source": [
    "audi = Audi(4, 5, 'Diesel')"
   ]
  },
  {
   "cell_type": "code",
   "execution_count": 3,
   "id": "047b994e-7cf7-4d4d-8e88-edb0f5c8f08c",
   "metadata": {},
   "outputs": [
    {
     "data": {
      "text/plain": [
       "['Doors',\n",
       " 'Windows',\n",
       " '__class__',\n",
       " '__delattr__',\n",
       " '__dict__',\n",
       " '__dir__',\n",
       " '__doc__',\n",
       " '__eq__',\n",
       " '__format__',\n",
       " '__ge__',\n",
       " '__getattribute__',\n",
       " '__getstate__',\n",
       " '__gt__',\n",
       " '__hash__',\n",
       " '__init__',\n",
       " '__init_subclass__',\n",
       " '__le__',\n",
       " '__lt__',\n",
       " '__module__',\n",
       " '__ne__',\n",
       " '__new__',\n",
       " '__reduce__',\n",
       " '__reduce_ex__',\n",
       " '__repr__',\n",
       " '__setattr__',\n",
       " '__sizeof__',\n",
       " '__str__',\n",
       " '__subclasshook__',\n",
       " '__weakref__',\n",
       " 'enginetype']"
      ]
     },
     "execution_count": 3,
     "metadata": {},
     "output_type": "execute_result"
    }
   ],
   "source": [
    "dir(audi)"
   ]
  },
  {
   "cell_type": "code",
   "execution_count": 4,
   "id": "970126b5-5b02-4729-910f-234dd769c1c9",
   "metadata": {},
   "outputs": [],
   "source": [
    "## all the class variables are protected\n",
    "class Car():\n",
    "\n",
    "    def __init__(self, Windows, Doors, enginetype):\n",
    "\n",
    "        self._Windows = Windows\n",
    "        self._Doors = Doors\n",
    "        self._enginetype = enginetype"
   ]
  },
  {
   "cell_type": "code",
   "execution_count": 7,
   "id": "b32f4b52-b2e6-4a4d-bcb7-14fe33e01d59",
   "metadata": {},
   "outputs": [],
   "source": [
    "class Truck(Car):\n",
    "\n",
    "    def __init__(self, Windows, Doors, enginetype, hp): # protected variable can be access/modified only if it is sub class/inheritance class.\n",
    "        super().__init__(Windows, Doors, enginetype)\n",
    "        self.hp = hp"
   ]
  },
  {
   "cell_type": "code",
   "execution_count": 8,
   "id": "75402996-f482-4d1f-a46a-9f5005ab2fb3",
   "metadata": {},
   "outputs": [],
   "source": [
    "truck = Truck(4, 4, 'Petrol', 4500)"
   ]
  },
  {
   "cell_type": "code",
   "execution_count": 9,
   "id": "3f049b84-87dd-46b6-b901-659e4eb72103",
   "metadata": {},
   "outputs": [
    {
     "data": {
      "text/plain": [
       "['_Doors',\n",
       " '_Windows',\n",
       " '__class__',\n",
       " '__delattr__',\n",
       " '__dict__',\n",
       " '__dir__',\n",
       " '__doc__',\n",
       " '__eq__',\n",
       " '__format__',\n",
       " '__ge__',\n",
       " '__getattribute__',\n",
       " '__getstate__',\n",
       " '__gt__',\n",
       " '__hash__',\n",
       " '__init__',\n",
       " '__init_subclass__',\n",
       " '__le__',\n",
       " '__lt__',\n",
       " '__module__',\n",
       " '__ne__',\n",
       " '__new__',\n",
       " '__reduce__',\n",
       " '__reduce_ex__',\n",
       " '__repr__',\n",
       " '__setattr__',\n",
       " '__sizeof__',\n",
       " '__str__',\n",
       " '__subclasshook__',\n",
       " '__weakref__',\n",
       " '_enginetype',\n",
       " 'hp']"
      ]
     },
     "execution_count": 9,
     "metadata": {},
     "output_type": "execute_result"
    }
   ],
   "source": [
    "dir(truck)"
   ]
  },
  {
   "cell_type": "code",
   "execution_count": 10,
   "id": "8a2be583-5fcc-4064-b9c4-247a9904be44",
   "metadata": {},
   "outputs": [],
   "source": [
    "truck._Doors = 5"
   ]
  },
  {
   "cell_type": "code",
   "execution_count": 12,
   "id": "7abf7162-b79d-4f18-b5a7-9072fb608f73",
   "metadata": {},
   "outputs": [
    {
     "data": {
      "text/plain": [
       "5"
      ]
     },
     "execution_count": 12,
     "metadata": {},
     "output_type": "execute_result"
    }
   ],
   "source": [
    "truck._Doors"
   ]
  },
  {
   "cell_type": "code",
   "execution_count": 13,
   "id": "dd5bce8b-8a5c-46b6-9e98-31c35aa47ead",
   "metadata": {},
   "outputs": [],
   "source": [
    "## all the class variables are private\n",
    "class Car():\n",
    "\n",
    "    def __init__(self, Windows, Doors, enginetype):\n",
    "\n",
    "        self.__Windows = Windows  # these private variables can't be access/modified outside of the class\n",
    "        self.__Doors = Doors\n",
    "        self.__enginetype = enginetype"
   ]
  },
  {
   "cell_type": "code",
   "execution_count": 14,
   "id": "9972e7c0-5403-4553-82c9-93bbdca1d1f9",
   "metadata": {},
   "outputs": [],
   "source": [
    "bmw = Car(4, 4, 'Diesel')"
   ]
  },
  {
   "cell_type": "code",
   "execution_count": 16,
   "id": "27591279-e37a-40e2-860d-4e59ed827618",
   "metadata": {},
   "outputs": [
    {
     "data": {
      "text/plain": [
       "['_Car__Doors',\n",
       " '_Car__Windows',\n",
       " '_Car__enginetype',\n",
       " '__class__',\n",
       " '__delattr__',\n",
       " '__dict__',\n",
       " '__dir__',\n",
       " '__doc__',\n",
       " '__eq__',\n",
       " '__format__',\n",
       " '__ge__',\n",
       " '__getattribute__',\n",
       " '__getstate__',\n",
       " '__gt__',\n",
       " '__hash__',\n",
       " '__init__',\n",
       " '__init_subclass__',\n",
       " '__le__',\n",
       " '__lt__',\n",
       " '__module__',\n",
       " '__ne__',\n",
       " '__new__',\n",
       " '__reduce__',\n",
       " '__reduce_ex__',\n",
       " '__repr__',\n",
       " '__setattr__',\n",
       " '__sizeof__',\n",
       " '__str__',\n",
       " '__subclasshook__',\n",
       " '__weakref__']"
      ]
     },
     "execution_count": 16,
     "metadata": {},
     "output_type": "execute_result"
    }
   ],
   "source": [
    "dir(bmw)"
   ]
  },
  {
   "cell_type": "code",
   "execution_count": 17,
   "id": "255ae29e-cbcc-49fb-85cd-33f023dcc97d",
   "metadata": {},
   "outputs": [
    {
     "data": {
      "text/plain": [
       "4"
      ]
     },
     "execution_count": 17,
     "metadata": {},
     "output_type": "execute_result"
    }
   ],
   "source": [
    "bmw._Car__Doors"
   ]
  },
  {
   "cell_type": "code",
   "execution_count": 18,
   "id": "8ea74d7a-049d-4730-ab19-b5db5d1fba97",
   "metadata": {},
   "outputs": [],
   "source": [
    "bmw._Car__Doors = 5"
   ]
  },
  {
   "cell_type": "code",
   "execution_count": 19,
   "id": "4a40f67a-10e1-4b82-b81b-4751f1844697",
   "metadata": {},
   "outputs": [
    {
     "data": {
      "text/plain": [
       "5"
      ]
     },
     "execution_count": 19,
     "metadata": {},
     "output_type": "execute_result"
    }
   ],
   "source": [
    "bmw._Car__Doors"
   ]
  },
  {
   "cell_type": "code",
   "execution_count": null,
   "id": "2787a524-71db-4fff-9756-6b0f1645a74c",
   "metadata": {},
   "outputs": [],
   "source": [
    " "
   ]
  }
 ],
 "metadata": {
  "kernelspec": {
   "display_name": "Python 3 (ipykernel)",
   "language": "python",
   "name": "python3"
  },
  "language_info": {
   "codemirror_mode": {
    "name": "ipython",
    "version": 3
   },
   "file_extension": ".py",
   "mimetype": "text/x-python",
   "name": "python",
   "nbconvert_exporter": "python",
   "pygments_lexer": "ipython3",
   "version": "3.11.3"
  }
 },
 "nbformat": 4,
 "nbformat_minor": 5
}
