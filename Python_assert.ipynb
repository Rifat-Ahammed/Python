{
 "cells": [
  {
   "cell_type": "markdown",
   "id": "0dad7f91-43df-4f88-8fb6-53a235bb9f53",
   "metadata": {},
   "source": [
    "# Python Assert"
   ]
  },
  {
   "cell_type": "markdown",
   "id": "e00d5928-d91d-4e5e-9932-6b645f794161",
   "metadata": {},
   "source": [
    "Python provides the assert statement to check if a given logical expression is True or False. Program execution proceeds if the expression is true and raises the AssertionError when it is Flase."
   ]
  },
  {
   "cell_type": "code",
   "execution_count": 1,
   "id": "ffdc799a-9c6f-40d9-846d-d0b3984023a5",
   "metadata": {},
   "outputs": [],
   "source": [
    "num = 10\n",
    "assert num>=10"
   ]
  },
  {
   "cell_type": "code",
   "execution_count": 2,
   "id": "e2177b55-ff5f-4fa2-9eb4-54836c1ef17b",
   "metadata": {},
   "outputs": [
    {
     "name": "stdout",
     "output_type": "stream",
     "text": [
      "Unexpected exception formatting exception. Falling back to standard exception\n"
     ]
    },
    {
     "name": "stderr",
     "output_type": "stream",
     "text": [
      "Traceback (most recent call last):\n",
      "  File \"C:\\Users\\Rifat\\AppData\\Roaming\\Python\\Lib\\site-packages\\IPython\\core\\interactiveshell.py\", line 3577, in run_code\n",
      "    exec(code_obj, self.user_global_ns, self.user_ns)\n",
      "  File \"C:\\Users\\Rifat\\AppData\\Local\\Temp\\ipykernel_19060\\3551922495.py\", line 1, in <module>\n",
      "    assert num>10\n",
      "           ^^^^^^\n",
      "AssertionError\n",
      "\n",
      "During handling of the above exception, another exception occurred:\n",
      "\n",
      "Traceback (most recent call last):\n",
      "  File \"C:\\Users\\Rifat\\AppData\\Roaming\\Python\\Lib\\site-packages\\IPython\\core\\interactiveshell.py\", line 2168, in showtraceback\n",
      "    stb = self.InteractiveTB.structured_traceback(\n",
      "          ^^^^^^^^^^^^^^^^^^^^^^^^^^^^^^^^^^^^^^^^\n",
      "  File \"C:\\Users\\Rifat\\AppData\\Roaming\\Python\\Lib\\site-packages\\IPython\\core\\ultratb.py\", line 1457, in structured_traceback\n",
      "    return FormattedTB.structured_traceback(\n",
      "           ^^^^^^^^^^^^^^^^^^^^^^^^^^^^^^^^^\n",
      "  File \"C:\\Users\\Rifat\\AppData\\Roaming\\Python\\Lib\\site-packages\\IPython\\core\\ultratb.py\", line 1348, in structured_traceback\n",
      "    return VerboseTB.structured_traceback(\n",
      "           ^^^^^^^^^^^^^^^^^^^^^^^^^^^^^^^\n",
      "  File \"C:\\Users\\Rifat\\AppData\\Roaming\\Python\\Lib\\site-packages\\IPython\\core\\ultratb.py\", line 1195, in structured_traceback\n",
      "    formatted_exception = self.format_exception_as_a_whole(etype, evalue, etb, number_of_lines_of_context,\n",
      "                          ^^^^^^^^^^^^^^^^^^^^^^^^^^^^^^^^^^^^^^^^^^^^^^^^^^^^^^^^^^^^^^^^^^^^^^^^^^^^^^^^\n",
      "  File \"C:\\Users\\Rifat\\AppData\\Roaming\\Python\\Lib\\site-packages\\IPython\\core\\ultratb.py\", line 1085, in format_exception_as_a_whole\n",
      "    self.get_records(etb, number_of_lines_of_context, tb_offset) if etb else []\n",
      "    ^^^^^^^^^^^^^^^^^^^^^^^^^^^^^^^^^^^^^^^^^^^^^^^^^^^^^^^^^^^^\n",
      "  File \"C:\\Users\\Rifat\\AppData\\Roaming\\Python\\Lib\\site-packages\\IPython\\core\\ultratb.py\", line 1137, in get_records\n",
      "    style = stack_data.style_with_executing_node(style, self.tb_highlight)\n",
      "            ^^^^^^^^^^^^^^^^^^^^^^^^^^^^^^^^^^^^^^^^^^^^^^^^^^^^^^^^^^^^^^\n",
      "  File \"C:\\Users\\Rifat\\AppData\\Roaming\\Python\\Lib\\site-packages\\stack_data\\core.py\", line 455, in style_with_executing_node\n",
      "    class NewStyle(style):\n",
      "  File \"C:\\Users\\Rifat\\AppData\\Roaming\\Python\\Lib\\site-packages\\pygments\\style.py\", line 91, in __new__\n",
      "    ndef[4] = colorformat(styledef[3:])\n",
      "              ^^^^^^^^^^^^^^^^^^^^^^^^^\n",
      "  File \"C:\\Users\\Rifat\\AppData\\Roaming\\Python\\Lib\\site-packages\\pygments\\style.py\", line 58, in colorformat\n",
      "    assert False, \"wrong color format %r\" % text\n",
      "AssertionError: wrong color format 'ansiyellow'\n"
     ]
    }
   ],
   "source": [
    "assert num>10"
   ]
  },
  {
   "cell_type": "code",
   "execution_count": 4,
   "id": "bc1e6c99-950f-4bcf-bf0a-6584fb2a67b9",
   "metadata": {},
   "outputs": [
    {
     "name": "stdin",
     "output_type": "stream",
     "text": [
      "Enter a number:  11\n"
     ]
    },
    {
     "name": "stdout",
     "output_type": "stream",
     "text": [
      "Please enter a even number\n"
     ]
    }
   ],
   "source": [
    "try:\n",
    "    num = int(input(\"Enter a even number: \"))\n",
    "    assert num%2==0\n",
    "    print(\"Number is even\")\n",
    "\n",
    "except AssertionError:\n",
    "    print(\"Please enter a even number\")"
   ]
  },
  {
   "cell_type": "code",
   "execution_count": null,
   "id": "0fac4d9c-9f85-47e2-941a-a6fab00f19a0",
   "metadata": {},
   "outputs": [],
   "source": []
  }
 ],
 "metadata": {
  "kernelspec": {
   "display_name": "Python 3 (ipykernel)",
   "language": "python",
   "name": "python3"
  },
  "language_info": {
   "codemirror_mode": {
    "name": "ipython",
    "version": 3
   },
   "file_extension": ".py",
   "mimetype": "text/x-python",
   "name": "python",
   "nbconvert_exporter": "python",
   "pygments_lexer": "ipython3",
   "version": "3.11.3"
  }
 },
 "nbformat": 4,
 "nbformat_minor": 5
}
