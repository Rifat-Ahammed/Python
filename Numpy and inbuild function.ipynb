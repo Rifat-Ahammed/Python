{
 "cells": [
  {
   "cell_type": "markdown",
   "id": "76f04e9d",
   "metadata": {},
   "source": [
    "# Numpy"
   ]
  },
  {
   "cell_type": "markdown",
   "id": "82d5e2eb",
   "metadata": {},
   "source": [
    "An array is a data structure that sotres values of same data type. In Python, this is main difference between arrays and lists. While python lists can contain values corresponding to different data types, arrays in python can only values corresponding to same data type."
   ]
  },
  {
   "cell_type": "code",
   "execution_count": 1,
   "id": "d03681d4",
   "metadata": {},
   "outputs": [],
   "source": [
    "import numpy as np"
   ]
  },
  {
   "cell_type": "code",
   "execution_count": 2,
   "id": "c1a6fdd3",
   "metadata": {},
   "outputs": [],
   "source": [
    "lst = [1, 2, 3, 4, 5]\n",
    "arr = np.array(lst)"
   ]
  },
  {
   "cell_type": "code",
   "execution_count": 3,
   "id": "9862cd40",
   "metadata": {},
   "outputs": [
    {
     "data": {
      "text/plain": [
       "array([1, 2, 3, 4, 5])"
      ]
     },
     "execution_count": 3,
     "metadata": {},
     "output_type": "execute_result"
    }
   ],
   "source": [
    "arr"
   ]
  },
  {
   "cell_type": "code",
   "execution_count": 4,
   "id": "a544bc12",
   "metadata": {},
   "outputs": [
    {
     "data": {
      "text/plain": [
       "(5,)"
      ]
     },
     "execution_count": 4,
     "metadata": {},
     "output_type": "execute_result"
    }
   ],
   "source": [
    "arr.shape"
   ]
  },
  {
   "cell_type": "code",
   "execution_count": 13,
   "id": "5d2b7b17",
   "metadata": {},
   "outputs": [],
   "source": [
    "my_lst1 = [1, 2, 3, 4, 5]\n",
    "my_lst2 = [2, 3, 4, 5, 6]\n",
    "my_lst3 = [4, 5, 6, 7, 8]\n",
    "\n",
    "arr = np.array([my_lst1, my_lst2, my_lst3])"
   ]
  },
  {
   "cell_type": "code",
   "execution_count": 14,
   "id": "208e1c94",
   "metadata": {},
   "outputs": [
    {
     "data": {
      "text/plain": [
       "array([[1, 2, 3, 4, 5],\n",
       "       [2, 3, 4, 5, 6],\n",
       "       [4, 5, 6, 7, 8]])"
      ]
     },
     "execution_count": 14,
     "metadata": {},
     "output_type": "execute_result"
    }
   ],
   "source": [
    "arr"
   ]
  },
  {
   "cell_type": "code",
   "execution_count": 7,
   "id": "d3d6a8ad",
   "metadata": {},
   "outputs": [
    {
     "data": {
      "text/plain": [
       "(3, 5)"
      ]
     },
     "execution_count": 7,
     "metadata": {},
     "output_type": "execute_result"
    }
   ],
   "source": [
    "arr.shape"
   ]
  },
  {
   "cell_type": "code",
   "execution_count": 8,
   "id": "505e27dd",
   "metadata": {},
   "outputs": [
    {
     "data": {
      "text/plain": [
       "array([[1, 2, 3],\n",
       "       [4, 5, 2],\n",
       "       [3, 4, 5],\n",
       "       [6, 4, 5],\n",
       "       [6, 7, 8]])"
      ]
     },
     "execution_count": 8,
     "metadata": {},
     "output_type": "execute_result"
    }
   ],
   "source": [
    "arr.reshape(5, 3)"
   ]
  },
  {
   "cell_type": "markdown",
   "id": "2e690339",
   "metadata": {},
   "source": [
    "## Indexing"
   ]
  },
  {
   "cell_type": "code",
   "execution_count": 18,
   "id": "bc88d07d",
   "metadata": {},
   "outputs": [
    {
     "data": {
      "text/plain": [
       "array([[5, 6],\n",
       "       [7, 8]])"
      ]
     },
     "execution_count": 18,
     "metadata": {},
     "output_type": "execute_result"
    }
   ],
   "source": [
    "arr[1:,3:]"
   ]
  },
  {
   "cell_type": "code",
   "execution_count": 20,
   "id": "48eced30",
   "metadata": {},
   "outputs": [
    {
     "data": {
      "text/plain": [
       "array([[2, 3, 4],\n",
       "       [4, 5, 6]])"
      ]
     },
     "execution_count": 20,
     "metadata": {},
     "output_type": "execute_result"
    }
   ],
   "source": [
    "arr[1:, 0:3]"
   ]
  },
  {
   "cell_type": "code",
   "execution_count": 21,
   "id": "020eb2a7",
   "metadata": {},
   "outputs": [
    {
     "data": {
      "text/plain": [
       "array([[4, 5],\n",
       "       [6, 7]])"
      ]
     },
     "execution_count": 21,
     "metadata": {},
     "output_type": "execute_result"
    }
   ],
   "source": [
    "arr[1:, 2:4]"
   ]
  },
  {
   "cell_type": "code",
   "execution_count": 22,
   "id": "5d6b67fa",
   "metadata": {},
   "outputs": [
    {
     "data": {
      "text/plain": [
       "array([[3, 4, 5]])"
      ]
     },
     "execution_count": 22,
     "metadata": {},
     "output_type": "execute_result"
    }
   ],
   "source": [
    "arr[1:2, 1:4]"
   ]
  },
  {
   "cell_type": "code",
   "execution_count": null,
   "id": "9bb0c626",
   "metadata": {},
   "outputs": [],
   "source": []
  },
  {
   "cell_type": "code",
   "execution_count": null,
   "id": "a8ba1c23",
   "metadata": {},
   "outputs": [],
   "source": []
  },
  {
   "cell_type": "code",
   "execution_count": 9,
   "id": "324b421a",
   "metadata": {},
   "outputs": [],
   "source": [
    "arr = np.array([1, 2 ,3 ,4 ,5 ,6 ,7 ,8 ,9])"
   ]
  },
  {
   "cell_type": "code",
   "execution_count": 10,
   "id": "0c31ddd6",
   "metadata": {},
   "outputs": [
    {
     "data": {
      "text/plain": [
       "array([1, 2, 3, 4, 5, 6, 7, 8, 9])"
      ]
     },
     "execution_count": 10,
     "metadata": {},
     "output_type": "execute_result"
    }
   ],
   "source": [
    "arr"
   ]
  },
  {
   "cell_type": "code",
   "execution_count": 11,
   "id": "b6f42ee1",
   "metadata": {},
   "outputs": [
    {
     "data": {
      "text/plain": [
       "4"
      ]
     },
     "execution_count": 11,
     "metadata": {},
     "output_type": "execute_result"
    }
   ],
   "source": []
  },
  {
   "cell_type": "code",
   "execution_count": 25,
   "id": "cb87f83c",
   "metadata": {},
   "outputs": [],
   "source": [
    "ar = np.arange(0, 10) # to create an array using build in function"
   ]
  },
  {
   "cell_type": "code",
   "execution_count": 26,
   "id": "7a7ddf19",
   "metadata": {},
   "outputs": [
    {
     "data": {
      "text/plain": [
       "array([0, 1, 2, 3, 4, 5, 6, 7, 8, 9])"
      ]
     },
     "execution_count": 26,
     "metadata": {},
     "output_type": "execute_result"
    }
   ],
   "source": [
    "ar"
   ]
  },
  {
   "cell_type": "code",
   "execution_count": 27,
   "id": "535d9765",
   "metadata": {},
   "outputs": [
    {
     "data": {
      "text/plain": [
       "array([ 0.        ,  0.20408163,  0.40816327,  0.6122449 ,  0.81632653,\n",
       "        1.02040816,  1.2244898 ,  1.42857143,  1.63265306,  1.83673469,\n",
       "        2.04081633,  2.24489796,  2.44897959,  2.65306122,  2.85714286,\n",
       "        3.06122449,  3.26530612,  3.46938776,  3.67346939,  3.87755102,\n",
       "        4.08163265,  4.28571429,  4.48979592,  4.69387755,  4.89795918,\n",
       "        5.10204082,  5.30612245,  5.51020408,  5.71428571,  5.91836735,\n",
       "        6.12244898,  6.32653061,  6.53061224,  6.73469388,  6.93877551,\n",
       "        7.14285714,  7.34693878,  7.55102041,  7.75510204,  7.95918367,\n",
       "        8.16326531,  8.36734694,  8.57142857,  8.7755102 ,  8.97959184,\n",
       "        9.18367347,  9.3877551 ,  9.59183673,  9.79591837, 10.        ])"
      ]
     },
     "execution_count": 27,
     "metadata": {},
     "output_type": "execute_result"
    }
   ],
   "source": [
    "# linspace\n",
    "np.linspace(0, 10, 50)"
   ]
  },
  {
   "cell_type": "code",
   "execution_count": 38,
   "id": "5cf16923",
   "metadata": {},
   "outputs": [],
   "source": [
    "arr = np.array([1, 2 ,3 ,4 ,5 ,6 ,7 ,8 ,9])"
   ]
  },
  {
   "cell_type": "code",
   "execution_count": 39,
   "id": "22d2ca80",
   "metadata": {},
   "outputs": [],
   "source": [
    "# copy() function and brodcasting\n",
    "\n",
    "arr[3:]=100"
   ]
  },
  {
   "cell_type": "code",
   "execution_count": 40,
   "id": "4f1c5eb9",
   "metadata": {},
   "outputs": [
    {
     "data": {
      "text/plain": [
       "array([  1,   2,   3, 100, 100, 100, 100, 100, 100])"
      ]
     },
     "execution_count": 40,
     "metadata": {},
     "output_type": "execute_result"
    }
   ],
   "source": [
    "arr"
   ]
  },
  {
   "cell_type": "code",
   "execution_count": 41,
   "id": "39c21ebe",
   "metadata": {},
   "outputs": [],
   "source": [
    "arra1  =arr"
   ]
  },
  {
   "cell_type": "code",
   "execution_count": 42,
   "id": "ede51bec",
   "metadata": {},
   "outputs": [
    {
     "data": {
      "text/plain": [
       "array([  1,   2,   3, 100, 100, 100, 100, 100, 100])"
      ]
     },
     "execution_count": 42,
     "metadata": {},
     "output_type": "execute_result"
    }
   ],
   "source": [
    "arra1"
   ]
  },
  {
   "cell_type": "code",
   "execution_count": 43,
   "id": "97ac9892",
   "metadata": {},
   "outputs": [],
   "source": [
    "arra1[3:] = 500"
   ]
  },
  {
   "cell_type": "code",
   "execution_count": 44,
   "id": "36658401",
   "metadata": {},
   "outputs": [
    {
     "data": {
      "text/plain": [
       "array([  1,   2,   3, 500, 500, 500, 500, 500, 500])"
      ]
     },
     "execution_count": 44,
     "metadata": {},
     "output_type": "execute_result"
    }
   ],
   "source": [
    "arra1"
   ]
  },
  {
   "cell_type": "code",
   "execution_count": 46,
   "id": "a21d946c",
   "metadata": {},
   "outputs": [
    {
     "data": {
      "text/plain": [
       "array([1, 1, 1, 1])"
      ]
     },
     "execution_count": 46,
     "metadata": {},
     "output_type": "execute_result"
    }
   ],
   "source": [
    "np.ones(4, dtype=int)"
   ]
  },
  {
   "cell_type": "code",
   "execution_count": 48,
   "id": "84243ea2",
   "metadata": {},
   "outputs": [
    {
     "data": {
      "text/plain": [
       "array([[1., 1., 1., 1., 1.],\n",
       "       [1., 1., 1., 1., 1.]])"
      ]
     },
     "execution_count": 48,
     "metadata": {},
     "output_type": "execute_result"
    }
   ],
   "source": [
    "np.ones((2, 5), dtype=float)"
   ]
  },
  {
   "cell_type": "code",
   "execution_count": 49,
   "id": "fe33c142",
   "metadata": {},
   "outputs": [
    {
     "data": {
      "text/plain": [
       "array([[0.51939714, 0.29369836, 0.82156384],\n",
       "       [0.63652769, 0.73908418, 0.65726894],\n",
       "       [0.0245679 , 0.87595685, 0.56865041]])"
      ]
     },
     "execution_count": 49,
     "metadata": {},
     "output_type": "execute_result"
    }
   ],
   "source": [
    "# random disrtribution\n",
    "\n",
    "np.random.rand(3, 3)"
   ]
  },
  {
   "cell_type": "code",
   "execution_count": 50,
   "id": "90208217",
   "metadata": {},
   "outputs": [],
   "source": [
    "np_ex = np.random.randn(4, 4) #Return a sample (or samples) from the \"standard normal\" distribution."
   ]
  },
  {
   "cell_type": "code",
   "execution_count": 51,
   "id": "0538b3cf",
   "metadata": {},
   "outputs": [
    {
     "data": {
      "text/plain": [
       "array([[-6.17388267e-01,  4.52498277e-01,  8.92262047e-04,\n",
       "         2.14577455e+00],\n",
       "       [ 2.46076467e-02, -1.47026920e+00,  2.00019175e+00,\n",
       "        -1.15239884e+00],\n",
       "       [-1.13242612e+00,  1.09370229e+00,  7.21576082e-01,\n",
       "         1.09029086e+00],\n",
       "       [-3.41625332e-01, -9.18710122e-01, -6.58773031e-01,\n",
       "        -1.30454435e-01]])"
      ]
     },
     "execution_count": 51,
     "metadata": {},
     "output_type": "execute_result"
    }
   ],
   "source": [
    "np_ex"
   ]
  },
  {
   "cell_type": "code",
   "execution_count": 57,
   "id": "a849b341",
   "metadata": {},
   "outputs": [],
   "source": [
    "import seaborn as sns\n",
    "import pandas as pd"
   ]
  },
  {
   "cell_type": "code",
   "execution_count": 61,
   "id": "9188a2c3",
   "metadata": {},
   "outputs": [
    {
     "name": "stderr",
     "output_type": "stream",
     "text": [
      "C:\\Users\\Rifat\\AppData\\Local\\Temp\\ipykernel_12860\\3046133745.py:1: UserWarning: \n",
      "\n",
      "`distplot` is a deprecated function and will be removed in seaborn v0.14.0.\n",
      "\n",
      "Please adapt your code to use either `displot` (a figure-level function with\n",
      "similar flexibility) or `histplot` (an axes-level function for histograms).\n",
      "\n",
      "For a guide to updating your code to use the new functions, please see\n",
      "https://gist.github.com/mwaskom/de44147ed2974457ad6372750bbe5751\n",
      "\n",
      "  sns.distplot(pd.DataFrame(np_ex.reshape(16,1)))\n"
     ]
    },
    {
     "data": {
      "text/plain": [
       "<Axes: ylabel='Density'>"
      ]
     },
     "execution_count": 61,
     "metadata": {},
     "output_type": "execute_result"
    },
    {
     "data": {
      "image/png": "[encoded data removed]",
      "text/plain": [
       "<Figure size 640x480 with 1 Axes>"
      ]
     },
     "metadata": {},
     "output_type": "display_data"
    }
   ],
   "source": [
    "sns.distplot(pd.DataFrame(np_ex.reshape(16,1)))"
   ]
  },
  {
   "cell_type": "code",
   "execution_count": 63,
   "id": "38002b78",
   "metadata": {},
   "outputs": [
    {
     "data": {
      "text/plain": [
       "array([[63, 50],\n",
       "       [13,  8],\n",
       "       [85, 36],\n",
       "       [20, 13]])"
      ]
     },
     "execution_count": 63,
     "metadata": {},
     "output_type": "execute_result"
    }
   ],
   "source": [
    " np.random.randint(0, 100, 8).reshape(4, 2)"
   ]
  },
  {
   "cell_type": "code",
   "execution_count": 66,
   "id": "ea4243dd",
   "metadata": {},
   "outputs": [
    {
     "data": {
      "text/plain": [
       "array([[0.17721109, 0.80369537, 0.81812464, 0.33210549, 0.21180996]])"
      ]
     },
     "execution_count": 66,
     "metadata": {},
     "output_type": "execute_result"
    }
   ],
   "source": [
    "np.random.random_sample((1, 5))"
   ]
  },
  {
   "cell_type": "code",
   "execution_count": null,
   "id": "e171247d",
   "metadata": {},
   "outputs": [],
   "source": []
  }
 ],
 "metadata": {
  "kernelspec": {
   "display_name": "Python 3 (ipykernel)",
   "language": "python",
   "name": "python3"
  },
  "language_info": {
   "codemirror_mode": {
    "name": "ipython",
    "version": 3
   },
   "file_extension": ".py",
   "mimetype": "text/x-python",
   "name": "python",
   "nbconvert_exporter": "python",
   "pygments_lexer": "ipython3",
   "version": "3.11.3"
  }
 },
 "nbformat": 4,
 "nbformat_minor": 5
}
