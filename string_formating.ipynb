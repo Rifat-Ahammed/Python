{
 "cells": [
  {
   "cell_type": "code",
   "execution_count": 1,
   "id": "24dc0bb3-49b7-4430-b974-915a5063de89",
   "metadata": {},
   "outputs": [
    {
     "name": "stdout",
     "output_type": "stream",
     "text": [
      "hello everyone\n"
     ]
    }
   ],
   "source": [
    "print('hello everyone')"
   ]
  },
  {
   "cell_type": "code",
   "execution_count": 2,
   "id": "83a7ba57-4159-494a-9110-6b1ac23067cc",
   "metadata": {},
   "outputs": [],
   "source": [
    "def grettings(name):\n",
    "\n",
    "    return \"hello {}. Welcome to the community.\".format(name)"
   ]
  },
  {
   "cell_type": "code",
   "execution_count": 3,
   "id": "22a97b5f-1de7-46cc-8cd4-eae6850ec8bf",
   "metadata": {},
   "outputs": [
    {
     "data": {
      "text/plain": [
       "'hello Rifat. Welcome to the community.'"
      ]
     },
     "execution_count": 3,
     "metadata": {},
     "output_type": "execute_result"
    }
   ],
   "source": [
    "grettings(\"Rifat\")"
   ]
  },
  {
   "cell_type": "code",
   "execution_count": 5,
   "id": "62fad6c7-42c4-4cb8-8404-75a36876b515",
   "metadata": {},
   "outputs": [
    {
     "name": "stdout",
     "output_type": "stream",
     "text": [
      "hello\n"
     ]
    }
   ],
   "source": [
    "print(\"hello\")\n",
    "      "
   ]
  },
  {
   "cell_type": "code",
   "execution_count": 8,
   "id": "32459cd8-4c15-46ad-b18b-cd0fc3b5ad69",
   "metadata": {},
   "outputs": [],
   "source": [
    "def welcome(name, age):\n",
    "    return \"Hello {}. Your age is {}\".format(age, name)"
   ]
  },
  {
   "cell_type": "code",
   "execution_count": 9,
   "id": "5408a805-a604-419b-a299-d891e109f0a0",
   "metadata": {},
   "outputs": [
    {
     "data": {
      "text/plain": [
       "'Hello 25. Your age is Rifat'"
      ]
     },
     "execution_count": 9,
     "metadata": {},
     "output_type": "execute_result"
    }
   ],
   "source": [
    "welcome('Rifat', 25)"
   ]
  },
  {
   "cell_type": "code",
   "execution_count": 11,
   "id": "c57edbde-1702-4a81-bc75-9a5c891c6176",
   "metadata": {},
   "outputs": [],
   "source": [
    "# to solve this error\n",
    "def welcome(name, age):\n",
    "    return \"Hello {Name}. Your age is {Age}\".format(Age = age, Name=name)"
   ]
  },
  {
   "cell_type": "code",
   "execution_count": 12,
   "id": "4bb4de64-444e-4724-8e57-96f68da0f101",
   "metadata": {},
   "outputs": [
    {
     "data": {
      "text/plain": [
       "'Hello Rifat. Your age is 25'"
      ]
     },
     "execution_count": 12,
     "metadata": {},
     "output_type": "execute_result"
    }
   ],
   "source": [
    "welcome(\"Rifat\", 25)"
   ]
  },
  {
   "cell_type": "code",
   "execution_count": null,
   "id": "61f30ee6-1e6c-40bb-886c-6e1d82172ceb",
   "metadata": {},
   "outputs": [],
   "source": []
  }
 ],
 "metadata": {
  "kernelspec": {
   "display_name": "Python 3 (ipykernel)",
   "language": "python",
   "name": "python3"
  },
  "language_info": {
   "codemirror_mode": {
    "name": "ipython",
    "version": 3
   },
   "file_extension": ".py",
   "mimetype": "text/x-python",
   "name": "python",
   "nbconvert_exporter": "python",
   "pygments_lexer": "ipython3",
   "version": "3.11.3"
  }
 },
 "nbformat": 4,
 "nbformat_minor": 5
}
