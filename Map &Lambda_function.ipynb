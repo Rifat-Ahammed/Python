{
 "cells": [
  {
   "cell_type": "markdown",
   "id": "fac474d2",
   "metadata": {},
   "source": [
    "# Map Function in Python"
   ]
  },
  {
   "cell_type": "code",
   "execution_count": 1,
   "id": "1b05acbd",
   "metadata": {},
   "outputs": [],
   "source": [
    "def even_odd(num):\n",
    "    \n",
    "    if num%2==0:\n",
    "        return 'Number {} is even'.format(num)\n",
    "    else:\n",
    "        return 'Number {} is odd'.format(num)"
   ]
  },
  {
   "cell_type": "code",
   "execution_count": 2,
   "id": "a7784773",
   "metadata": {},
   "outputs": [],
   "source": [
    "lst = [1, 2, 3, 9, 26, 35, 47, 85, 13, 99]"
   ]
  },
  {
   "cell_type": "code",
   "execution_count": 4,
   "id": "6f93ea9b",
   "metadata": {},
   "outputs": [
    {
     "data": {
      "text/plain": [
       "['Number 1 is odd',\n",
       " 'Number 2 is even',\n",
       " 'Number 3 is odd',\n",
       " 'Number 9 is odd',\n",
       " 'Number 26 is even',\n",
       " 'Number 35 is odd',\n",
       " 'Number 47 is odd',\n",
       " 'Number 85 is odd',\n",
       " 'Number 13 is odd',\n",
       " 'Number 99 is odd']"
      ]
     },
     "execution_count": 4,
     "metadata": {},
     "output_type": "execute_result"
    }
   ],
   "source": [
    "list(map(even_odd, lst))"
   ]
  },
  {
   "cell_type": "code",
   "execution_count": 5,
   "id": "ec06e9cb",
   "metadata": {},
   "outputs": [
    {
     "name": "stdout",
     "output_type": "stream",
     "text": [
      "1 2\n"
     ]
    }
   ],
   "source": [
    "command = input().split()"
   ]
  },
  {
   "cell_type": "code",
   "execution_count": 6,
   "id": "c66c64e8",
   "metadata": {},
   "outputs": [
    {
     "data": {
      "text/plain": [
       "'1'"
      ]
     },
     "execution_count": 6,
     "metadata": {},
     "output_type": "execute_result"
    }
   ],
   "source": [
    "command[0]"
   ]
  },
  {
   "cell_type": "markdown",
   "id": "b3ff1eb8",
   "metadata": {},
   "source": [
    "# Lambda Function\n",
    "\n",
    "Anonymous function.\n",
    "\n",
    "a function with no name\n",
    "\n",
    "Lambda function only for single expression"
   ]
  },
  {
   "cell_type": "code",
   "execution_count": 7,
   "id": "7ba31dfd",
   "metadata": {},
   "outputs": [],
   "source": [
    " def addition(a, b):\n",
    "        return a+b\n",
    "    "
   ]
  },
  {
   "cell_type": "code",
   "execution_count": 8,
   "id": "c2dc0cfc",
   "metadata": {},
   "outputs": [
    {
     "data": {
      "text/plain": [
       "9"
      ]
     },
     "execution_count": 8,
     "metadata": {},
     "output_type": "execute_result"
    }
   ],
   "source": [
    "addition(4, 5)"
   ]
  },
  {
   "cell_type": "code",
   "execution_count": 9,
   "id": "5d89647e",
   "metadata": {},
   "outputs": [],
   "source": [
    "addition = lambda a,b:a+b"
   ]
  },
  {
   "cell_type": "code",
   "execution_count": 10,
   "id": "80956ed9",
   "metadata": {},
   "outputs": [
    {
     "data": {
      "text/plain": [
       "22"
      ]
     },
     "execution_count": 10,
     "metadata": {},
     "output_type": "execute_result"
    }
   ],
   "source": [
    "addition(10, 12)"
   ]
  },
  {
   "cell_type": "code",
   "execution_count": 11,
   "id": "fc3837be",
   "metadata": {},
   "outputs": [],
   "source": [
    "def even(num):\n",
    "    \n",
    "    if num%2==0:\n",
    "        return True"
   ]
  },
  {
   "cell_type": "code",
   "execution_count": 12,
   "id": "d37b6055",
   "metadata": {},
   "outputs": [
    {
     "data": {
      "text/plain": [
       "True"
      ]
     },
     "execution_count": 12,
     "metadata": {},
     "output_type": "execute_result"
    }
   ],
   "source": [
    "even(12)"
   ]
  },
  {
   "cell_type": "code",
   "execution_count": 13,
   "id": "5e867327",
   "metadata": {},
   "outputs": [],
   "source": [
    "even1 = lambda a:a%2==0"
   ]
  },
  {
   "cell_type": "code",
   "execution_count": 14,
   "id": "a32b5bea",
   "metadata": {},
   "outputs": [
    {
     "data": {
      "text/plain": [
       "True"
      ]
     },
     "execution_count": 14,
     "metadata": {},
     "output_type": "execute_result"
    }
   ],
   "source": [
    "even1(12)"
   ]
  },
  {
   "cell_type": "markdown",
   "id": "c5f9442b",
   "metadata": {},
   "source": [
    "# Filter Function"
   ]
  },
  {
   "cell_type": "code",
   "execution_count": 15,
   "id": "66db7b30",
   "metadata": {},
   "outputs": [],
   "source": [
    "def even(num):\n",
    "    if num%2==0:\n",
    "        return True"
   ]
  },
  {
   "cell_type": "code",
   "execution_count": 16,
   "id": "f4b0dddf",
   "metadata": {},
   "outputs": [],
   "source": [
    "lst = [1, 2, 3, 4, 5, 6, 7, 8, 9,0]"
   ]
  },
  {
   "cell_type": "code",
   "execution_count": 18,
   "id": "ef7b991e",
   "metadata": {},
   "outputs": [
    {
     "data": {
      "text/plain": [
       "[2, 4, 6, 8, 0]"
      ]
     },
     "execution_count": 18,
     "metadata": {},
     "output_type": "execute_result"
    }
   ],
   "source": [
    "list(filter(even, lst))"
   ]
  },
  {
   "cell_type": "code",
   "execution_count": 20,
   "id": "9f2e4c12",
   "metadata": {},
   "outputs": [
    {
     "data": {
      "text/plain": [
       "[2, 4, 6, 8, 0]"
      ]
     },
     "execution_count": 20,
     "metadata": {},
     "output_type": "execute_result"
    }
   ],
   "source": [
    "# using lambda function\n",
    "\n",
    "list(filter(lambda num:num%2==0, lst))"
   ]
  },
  {
   "cell_type": "code",
   "execution_count": 21,
   "id": "5ee25aa2",
   "metadata": {},
   "outputs": [
    {
     "data": {
      "text/plain": [
       "[False, True, False, True, False, True, False, True, False, True]"
      ]
     },
     "execution_count": 21,
     "metadata": {},
     "output_type": "execute_result"
    }
   ],
   "source": [
    "# using map function\n",
    "\n",
    "list(map(lambda num:num%2==0, lst))"
   ]
  },
  {
   "cell_type": "code",
   "execution_count": null,
   "id": "c8943c7a",
   "metadata": {},
   "outputs": [],
   "source": []
  }
 ],
 "metadata": {
  "kernelspec": {
   "display_name": "Python 3 (ipykernel)",
   "language": "python",
   "name": "python3"
  },
  "language_info": {
   "codemirror_mode": {
    "name": "ipython",
    "version": 3
   },
   "file_extension": ".py",
   "mimetype": "text/x-python",
   "name": "python",
   "nbconvert_exporter": "python",
   "pygments_lexer": "ipython3",
   "version": "3.11.3"
  }
 },
 "nbformat": 4,
 "nbformat_minor": 5
}
