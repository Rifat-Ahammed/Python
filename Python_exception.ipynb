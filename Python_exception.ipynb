{
 "cells": [
  {
   "cell_type": "markdown",
   "id": "b66ea16f-d965-4201-bd71-09c49be08d8e",
   "metadata": {},
   "source": [
    "# Exception handling"
   ]
  },
  {
   "cell_type": "code",
   "execution_count": 4,
   "id": "1e1f0e29-cda3-4bdc-8430-312fca4133ff",
   "metadata": {},
   "outputs": [
    {
     "name": "stdout",
     "output_type": "stream",
     "text": [
      "The value is not defined\n"
     ]
    }
   ],
   "source": [
    "try:\n",
    "    a=b\n",
    "\n",
    "except NameError as ex1:\n",
    "    print(\"The value is not defined\")\n",
    "except Exception as ex:\n",
    "    print(ex)"
   ]
  },
  {
   "cell_type": "code",
   "execution_count": 5,
   "id": "6cff5262-3079-45cd-bcdd-f7443f92cdd8",
   "metadata": {},
   "outputs": [
    {
     "name": "stdout",
     "output_type": "stream",
     "text": [
      "unsupported operand type(s) for +: 'int' and 'str'\n"
     ]
    }
   ],
   "source": [
    "try:\n",
    "    a=1\n",
    "    b=\"s\"\n",
    "    c=a+b\n",
    "except Exception as ex:\n",
    "    print(ex)"
   ]
  },
  {
   "cell_type": "code",
   "execution_count": null,
   "id": "010cd7c6-f3ff-4725-a4f6-8f111ce65e71",
   "metadata": {},
   "outputs": [],
   "source": []
  },
  {
   "cell_type": "code",
   "execution_count": 8,
   "id": "5771c2e7-45e4-479b-b948-2d80e3d930b0",
   "metadata": {},
   "outputs": [
    {
     "name": "stdout",
     "output_type": "stream",
     "text": [
      "Try to make the dattype similar\n"
     ]
    }
   ],
   "source": [
    "try:\n",
    "    a=1\n",
    "    b=\"s\"\n",
    "    c=a+b\n",
    "\n",
    "except TypeError:\n",
    "    print(\"Try to make the dattype similar\")\n",
    "except Exception as ex:\n",
    "    print(ex)"
   ]
  },
  {
   "cell_type": "code",
   "execution_count": 16,
   "id": "3082eba3-2b2f-48cf-8d0c-1aa01d4601e7",
   "metadata": {},
   "outputs": [
    {
     "name": "stdin",
     "output_type": "stream",
     "text": [
      "Enter first value:  12\n",
      "Enter second value:  3\n"
     ]
    },
    {
     "name": "stdout",
     "output_type": "stream",
     "text": [
      "4.0\n",
      "36\n",
      "15\n"
     ]
    }
   ],
   "source": [
    "## Try else\n",
    "\n",
    "try:\n",
    "    a = int(input(\"Enter first value: \"))\n",
    "    b = int(input(\"Enter second value: \"))\n",
    "    c = a/b\n",
    "    d = a*b\n",
    "    e = a+b\n",
    "    \n",
    "except NameError:\n",
    "    print(\"The value is not defined\")\n",
    "except TypeError:\n",
    "    print(\"Try to make the dattype similar\")\n",
    "except ZeroDivisionError:\n",
    "    print(\"this nothing but a zero divison error. Please provide number greater than 0\")\n",
    "except Exception as ex:\n",
    "    print(ex)\n",
    "else:\n",
    "    print(c)\n",
    "    print(d)\n",
    "    print(e)\n",
    "    "
   ]
  },
  {
   "cell_type": "code",
   "execution_count": 17,
   "id": "a646b966-fce2-4185-9a14-871649eabc05",
   "metadata": {},
   "outputs": [
    {
     "name": "stdin",
     "output_type": "stream",
     "text": [
      "Enter first value:  12\n",
      "Enter second value:  2\n"
     ]
    },
    {
     "name": "stdout",
     "output_type": "stream",
     "text": [
      "6.0\n",
      "24\n",
      "14\n",
      "the execution is done\n"
     ]
    }
   ],
   "source": [
    "## try, else, finally\n",
    "\n",
    "## Try else\n",
    "\n",
    "try:\n",
    "    a = int(input(\"Enter first value: \"))\n",
    "    b = int(input(\"Enter second value: \"))\n",
    "    c = a/b\n",
    "    d = a*b\n",
    "    e = a+b\n",
    "    \n",
    "except NameError:\n",
    "    print(\"The value is not defined\")\n",
    "except TypeError:\n",
    "    print(\"Try to make the dattype similar\")\n",
    "except ZeroDivisionError:\n",
    "    print(\"this nothing but a zero divison error. Please provide number greater than 0\")\n",
    "except Exception as ex:\n",
    "    print(ex)\n",
    "else:\n",
    "    print(c)\n",
    "    print(d)\n",
    "    print(e)\n",
    "finally:\n",
    "    print(\"the execution is done\")"
   ]
  },
  {
   "cell_type": "markdown",
   "id": "e63aa016-a360-4870-942c-9bfa4c279c59",
   "metadata": {},
   "source": [
    "# Custome Exception"
   ]
  },
  {
   "cell_type": "code",
   "execution_count": 25,
   "id": "f3d61106-fc6c-4460-9937-831ce885c1c6",
   "metadata": {},
   "outputs": [],
   "source": [
    "class Error(Exception):\n",
    "    pass\n",
    "\n",
    "class dobException(Error):\n",
    "    pass"
   ]
  },
  {
   "cell_type": "code",
   "execution_count": 26,
   "id": "c45dad45-8554-4a8a-b0e3-3f89f1abca75",
   "metadata": {},
   "outputs": [
    {
     "name": "stdin",
     "output_type": "stream",
     "text": [
      "Enter you age: 2010\n"
     ]
    },
    {
     "name": "stdout",
     "output_type": "stream",
     "text": [
      "Your age is not in the range between 20 to 30. So, You can't apply for the exams\n"
     ]
    }
   ],
   "source": [
    "year = int(input(\"Enter you age:\"))\n",
    "age = 2024 - year\n",
    "\n",
    "try:\n",
    "    if age <=30 & age >20:\n",
    "        print('The age is valid. You can apply for the exams')\n",
    "    else:\n",
    "        raise dobException\n",
    "except dobException:\n",
    "    print(\"Your age is not in the range between 20 to 30. So, You can't apply for the exams\")"
   ]
  },
  {
   "cell_type": "code",
   "execution_count": null,
   "id": "0083632f-4609-41da-9aa8-3b71dfe2c00e",
   "metadata": {},
   "outputs": [],
   "source": []
  }
 ],
 "metadata": {
  "kernelspec": {
   "display_name": "Python 3 (ipykernel)",
   "language": "python",
   "name": "python3"
  },
  "language_info": {
   "codemirror_mode": {
    "name": "ipython",
    "version": 3
   },
   "file_extension": ".py",
   "mimetype": "text/x-python",
   "name": "python",
   "nbconvert_exporter": "python",
   "pygments_lexer": "ipython3",
   "version": "3.11.3"
  }
 },
 "nbformat": 4,
 "nbformat_minor": 5
}
