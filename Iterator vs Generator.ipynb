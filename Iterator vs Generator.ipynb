{
 "cells": [
  {
   "cell_type": "code",
   "execution_count": 1,
   "id": "5712c6c0-8953-44a8-8829-0259b055ccbb",
   "metadata": {},
   "outputs": [
    {
     "name": "stdout",
     "output_type": "stream",
     "text": [
      "1\n",
      "2\n",
      "3\n",
      "4\n",
      "5\n"
     ]
    }
   ],
   "source": [
    "lst  = [1, 2, 3, 4, 5]\n",
    "for i in lst:\n",
    "    print(i)"
   ]
  },
  {
   "cell_type": "markdown",
   "id": "79cd2032-2a16-400f-94b9-3156f3b1eb6f",
   "metadata": {},
   "source": [
    "### Iterator"
   ]
  },
  {
   "cell_type": "code",
   "execution_count": 15,
   "id": "67520dac-27f4-4d4f-b486-7e8f5707a8a2",
   "metadata": {},
   "outputs": [],
   "source": [
    "## iterator \n",
    "iterable = iter(lst)"
   ]
  },
  {
   "cell_type": "code",
   "execution_count": 3,
   "id": "ccc06ac5-61d3-4245-baea-1af7cec623bd",
   "metadata": {},
   "outputs": [
    {
     "data": {
      "text/plain": [
       "list_iterator"
      ]
     },
     "execution_count": 3,
     "metadata": {},
     "output_type": "execute_result"
    }
   ],
   "source": [
    "type(iterable)"
   ]
  },
  {
   "cell_type": "code",
   "execution_count": 4,
   "id": "e088a52f-d3e0-44c0-bb21-3ce2b0116c36",
   "metadata": {},
   "outputs": [
    {
     "name": "stdout",
     "output_type": "stream",
     "text": [
      "1\n",
      "2\n",
      "3\n",
      "4\n",
      "5\n"
     ]
    }
   ],
   "source": [
    "for i in iterable:\n",
    "    print(i)"
   ]
  },
  {
   "cell_type": "code",
   "execution_count": 21,
   "id": "3b5b7b2b-3ec2-4301-af00-0e8760c1efb0",
   "metadata": {},
   "outputs": [
    {
     "name": "stdout",
     "output_type": "stream",
     "text": [
      "The iterator is empty\n"
     ]
    }
   ],
   "source": [
    "\n",
    "try:\n",
    "    next(iterable)\n",
    "except StopIteration:\n",
    "    print(\"The iterator is empty\")"
   ]
  },
  {
   "cell_type": "markdown",
   "id": "357f643a-122d-4d00-b18c-cfaa9f13f840",
   "metadata": {},
   "source": [
    "### Generator "
   ]
  },
  {
   "cell_type": "code",
   "execution_count": 22,
   "id": "b067d35b-855e-48d5-9a33-03f4a56b1033",
   "metadata": {},
   "outputs": [],
   "source": [
    "# Generator basically is used in order to create iterator \n",
    "\n",
    "def square(n):\n",
    "    for i in range(n):\n",
    "        yield i**2"
   ]
  },
  {
   "cell_type": "code",
   "execution_count": 30,
   "id": "a7fcd8e9-7392-408e-b02d-031ec31affe6",
   "metadata": {},
   "outputs": [],
   "source": [
    "a = square(3)"
   ]
  },
  {
   "cell_type": "code",
   "execution_count": 33,
   "id": "5fd42573-fcbe-4cd0-91a1-e690a9365b26",
   "metadata": {},
   "outputs": [
    {
     "data": {
      "text/plain": [
       "4"
      ]
     },
     "execution_count": 33,
     "metadata": {},
     "output_type": "execute_result"
    }
   ],
   "source": [
    "next(a)"
   ]
  },
  {
   "cell_type": "markdown",
   "id": "8461fbdb-6ddd-47d8-ba39-46ca824e471b",
   "metadata": {},
   "source": [
    "### Difference between Iterator vs Generator "
   ]
  },
  {
   "cell_type": "markdown",
   "id": "41ab19a5-77c6-4524-9b48-76407d2e7468",
   "metadata": {},
   "source": [
    "1. To create a iterator we use iter() and to create generator we use function along with \"yield\" keyword.\n",
    "2. Generator uses the yield keyword/ It saves the local variable value.\n",
    "3. Generator in Python helos us to write fast and compact code.\n",
    "4. Python iterator is much more memory efficient.\n",
    "   "
   ]
  },
  {
   "cell_type": "code",
   "execution_count": 38,
   "id": "b336fe7b-6e54-4f88-9859-fdf85e9196ff",
   "metadata": {},
   "outputs": [
    {
     "data": {
      "text/plain": [
       "True"
      ]
     },
     "execution_count": 38,
     "metadata": {},
     "output_type": "execute_result"
    }
   ],
   "source": [
    "import types, collections.abc\n",
    "issubclass(types.GeneratorType, collections.abc.Iterator)"
   ]
  },
  {
   "cell_type": "code",
   "execution_count": null,
   "id": "42ef8c00-24ad-4b8a-b242-0de404b6249d",
   "metadata": {},
   "outputs": [],
   "source": []
  },
  {
   "cell_type": "code",
   "execution_count": null,
   "id": "17c0de73-8645-48ba-adf4-21f932b37490",
   "metadata": {},
   "outputs": [],
   "source": []
  }
 ],
 "metadata": {
  "kernelspec": {
   "display_name": "Python 3 (ipykernel)",
   "language": "python",
   "name": "python3"
  },
  "language_info": {
   "codemirror_mode": {
    "name": "ipython",
    "version": 3
   },
   "file_extension": ".py",
   "mimetype": "text/x-python",
   "name": "python",
   "nbconvert_exporter": "python",
   "pygments_lexer": "ipython3",
   "version": "3.11.3"
  }
 },
 "nbformat": 4,
 "nbformat_minor": 5
}
