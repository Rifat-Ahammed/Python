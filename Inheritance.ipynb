{
 "cells": [
  {
   "cell_type": "markdown",
   "id": "dc99aaea-d204-484f-9e29-7c6de592046b",
   "metadata": {},
   "source": [
    "# Python_OOPS Inheritance "
   ]
  },
  {
   "cell_type": "code",
   "execution_count": 1,
   "id": "0e2ad8a9-520b-45ca-b3e6-cec99b213fa2",
   "metadata": {},
   "outputs": [
    {
     "name": "stdout",
     "output_type": "stream",
     "text": [
      "helo\n"
     ]
    }
   ],
   "source": [
    " print('helo')"
   ]
  },
  {
   "cell_type": "code",
   "execution_count": 9,
   "id": "606e715e-4f9a-471b-a461-1b85c37d9fa8",
   "metadata": {},
   "outputs": [],
   "source": [
    "class Car:\n",
    "\n",
    "    def __init__(self, windows, doors, enginetype):\n",
    "\n",
    "        self.windows = windows\n",
    "        self.doors = doors\n",
    "        self.enginetype = enginetype\n",
    "    def drive(self):\n",
    "        print(\"The person drives the car\")"
   ]
  },
  {
   "cell_type": "code",
   "execution_count": 11,
   "id": "6034d78c-50f0-4ea3-a4d6-fd86c6de9535",
   "metadata": {},
   "outputs": [],
   "source": [
    "car = Car(4, 5, 'Diesel')"
   ]
  },
  {
   "cell_type": "code",
   "execution_count": 12,
   "id": "a555fcab-a2ef-4823-9ec2-a27fe8ddcc6f",
   "metadata": {},
   "outputs": [
    {
     "data": {
      "text/plain": [
       "['__class__',\n",
       " '__delattr__',\n",
       " '__dict__',\n",
       " '__dir__',\n",
       " '__doc__',\n",
       " '__eq__',\n",
       " '__format__',\n",
       " '__ge__',\n",
       " '__getattribute__',\n",
       " '__getstate__',\n",
       " '__gt__',\n",
       " '__hash__',\n",
       " '__init__',\n",
       " '__init_subclass__',\n",
       " '__le__',\n",
       " '__lt__',\n",
       " '__module__',\n",
       " '__ne__',\n",
       " '__new__',\n",
       " '__reduce__',\n",
       " '__reduce_ex__',\n",
       " '__repr__',\n",
       " '__setattr__',\n",
       " '__sizeof__',\n",
       " '__str__',\n",
       " '__subclasshook__',\n",
       " '__weakref__',\n",
       " 'doors',\n",
       " 'drive',\n",
       " 'enginetype',\n",
       " 'windows']"
      ]
     },
     "execution_count": 12,
     "metadata": {},
     "output_type": "execute_result"
    }
   ],
   "source": [
    "dir(car)"
   ]
  },
  {
   "cell_type": "code",
   "execution_count": 13,
   "id": "c80e91cf-b514-4a00-8976-fa624c46b26f",
   "metadata": {},
   "outputs": [
    {
     "data": {
      "text/plain": [
       "4"
      ]
     },
     "execution_count": 13,
     "metadata": {},
     "output_type": "execute_result"
    }
   ],
   "source": [
    "car.windows"
   ]
  },
  {
   "cell_type": "code",
   "execution_count": 14,
   "id": "93957023-b5fa-4548-8a68-284bf9ae7bbb",
   "metadata": {},
   "outputs": [
    {
     "name": "stdout",
     "output_type": "stream",
     "text": [
      "The person drives the car\n"
     ]
    }
   ],
   "source": [
    "car.drive()"
   ]
  },
  {
   "cell_type": "code",
   "execution_count": 17,
   "id": "962eac31-f9bc-40e1-affd-17a5d4873f60",
   "metadata": {},
   "outputs": [],
   "source": [
    "# Inheritance\n",
    "\n",
    "class Audi(Car):\n",
    "\n",
    "    def __init__(self, windows, doors, enginetype, enableAI):\n",
    "        super().__init__(windows, doors, enginetype)\n",
    "        self.enableAI = enableAI\n",
    "\n",
    "    def self_driving(self):\n",
    "        print(\"Audi suppots self driving\")"
   ]
  },
  {
   "cell_type": "code",
   "execution_count": 18,
   "id": "2feacb9f-5cba-494e-82b7-365023ce03bf",
   "metadata": {},
   "outputs": [],
   "source": [
    "audi = Audi(5, 5, \"Diesel\", True)"
   ]
  },
  {
   "cell_type": "code",
   "execution_count": 19,
   "id": "a2cf4c35-319a-4a7a-8c4d-0ed6eb61822b",
   "metadata": {},
   "outputs": [
    {
     "data": {
      "text/plain": [
       "True"
      ]
     },
     "execution_count": 19,
     "metadata": {},
     "output_type": "execute_result"
    }
   ],
   "source": [
    "audi.enableAI"
   ]
  },
  {
   "cell_type": "code",
   "execution_count": 20,
   "id": "985a147e-2389-4f64-9125-1e534715069e",
   "metadata": {},
   "outputs": [
    {
     "name": "stdout",
     "output_type": "stream",
     "text": [
      "Audi suppots self driving\n"
     ]
    }
   ],
   "source": [
    "audi.self_driving()"
   ]
  },
  {
   "cell_type": "code",
   "execution_count": 21,
   "id": "8337dd2d-d8a9-41b5-838b-0122fc8568b6",
   "metadata": {},
   "outputs": [
    {
     "data": {
      "text/plain": [
       "['__annotations__',\n",
       " '__class__',\n",
       " '__delattr__',\n",
       " '__dict__',\n",
       " '__dir__',\n",
       " '__doc__',\n",
       " '__eq__',\n",
       " '__format__',\n",
       " '__ge__',\n",
       " '__getattribute__',\n",
       " '__getstate__',\n",
       " '__gt__',\n",
       " '__hash__',\n",
       " '__init__',\n",
       " '__init_subclass__',\n",
       " '__le__',\n",
       " '__lt__',\n",
       " '__module__',\n",
       " '__ne__',\n",
       " '__new__',\n",
       " '__reduce__',\n",
       " '__reduce_ex__',\n",
       " '__repr__',\n",
       " '__setattr__',\n",
       " '__sizeof__',\n",
       " '__str__',\n",
       " '__subclasshook__',\n",
       " '__weakref__',\n",
       " 'doors',\n",
       " 'drive',\n",
       " 'enableAI',\n",
       " 'enginetype',\n",
       " 'self_driving',\n",
       " 'windows']"
      ]
     },
     "execution_count": 21,
     "metadata": {},
     "output_type": "execute_result"
    }
   ],
   "source": [
    "dir(audi)"
   ]
  },
  {
   "cell_type": "code",
   "execution_count": 22,
   "id": "41bfbb16-81bb-4abc-a32e-3e3d71de461c",
   "metadata": {},
   "outputs": [
    {
     "name": "stdout",
     "output_type": "stream",
     "text": [
      "The person drives the car\n"
     ]
    }
   ],
   "source": [
    "audi.drive()"
   ]
  },
  {
   "cell_type": "code",
   "execution_count": null,
   "id": "cf2987e1-e6b1-4583-abd9-7041daffa49a",
   "metadata": {},
   "outputs": [],
   "source": []
  }
 ],
 "metadata": {
  "kernelspec": {
   "display_name": "Python 3 (ipykernel)",
   "language": "python",
   "name": "python3"
  },
  "language_info": {
   "codemirror_mode": {
    "name": "ipython",
    "version": 3
   },
   "file_extension": ".py",
   "mimetype": "text/x-python",
   "name": "python",
   "nbconvert_exporter": "python",
   "pygments_lexer": "ipython3",
   "version": "3.11.3"
  }
 },
 "nbformat": 4,
 "nbformat_minor": 5
}
